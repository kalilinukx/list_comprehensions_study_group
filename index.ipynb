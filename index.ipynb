{
 "cells": [
  {
   "cell_type": "markdown",
   "metadata": {},
   "source": [
    "# List Comprehensions in Python: the How, the Why, and the What Even Are They?\n",
    "\n",
    "# Contents\n",
    "\n",
    "- [What is a list comprehension?](#)\n",
    "- [Why use them?]\n",
    "- [with conditional statements (if/else]\n",
    "- [with nesting]\n",
    "- [Dictionary comprehensions]\n"
   ]
  },
  {
   "cell_type": "code",
   "execution_count": 7,
   "metadata": {},
   "outputs": [],
   "source": [
    "menu = {\n",
    "        'soup': {\n",
    "                    'classic': ['tomato bisque', 'potato leek', 'french onion'],\n",
    "                    'gluten_free': ['broccoli cheddar', 'gaspacho', 'pho'],\n",
    "                    'vegan': ['carrot ginger', 'curried sweet potato', 'mulligatawny',]\n",
    "                },\n",
    "        'salad': {\n",
    "                    'classic': ['caesar', 'cobb', 'nicoise'],\n",
    "                    'gluten_free': ['larb', 'cole slaw', 'watermelon tomato'],\n",
    "                    'vegan': ['mesclun', 'kale', 'lentil']\n",
    "                },\n",
    "        'proteins': {\n",
    "                    'classic': ['steak au poivre', 'grilled chicken', 'salmon with dill'],\n",
    "                    'gluten_free': ['', '', ''],\n",
    "                    'vegan': ['falafel', 'cauliflower steak', 'grilled portobello' ]\n",
    "                },\n",
    "        'sides': {\n",
    "                    'classic': ['mashed potatoes', 'fried brussels sprouts', 'garlic bread'],\n",
    "                    'gluten_free': ['grilled asparagus', 'roasted tomatoes', 'green beans amandine'],\n",
    "                    'vegan': ['boiled new potatoes', 'curried cauliflower', 'farro salad']\n",
    "                },\n",
    "        'pastry': {\n",
    "                    'classic': ['black forest cake', 'lemon bars', 'choux puffs'],\n",
    "                    'gluten_free': ['flourless chocolate cake', 'parfaits', 'macarons'],\n",
    "                    'vegan': ['sweet potato cake', 'peanut butter cookies', 'fruit salad']\n",
    "                },\n",
    "}"
   ]
  },
  {
   "cell_type": "code",
   "execution_count": 6,
   "metadata": {},
   "outputs": [
    {
     "data": {
      "text/plain": [
       "{'soup': {'classic': ['tomato bisque', 'potato leek', 'french onion'],\n",
       "  'gluten_free': ['broccoli cheddar', 'gaspacho', 'pho'],\n",
       "  'vegan': ['carrot ginger', 'curried sweet potato', 'mulligatawny']},\n",
       " 'salad': {'classic': ['caesar', 'cobb', 'nicoise'],\n",
       "  'gluten_free': ['larb', 'cole slaw', 'watermelon tomato'],\n",
       "  'vegan': ['mesclun', 'kale', 'lentil']},\n",
       " 'proteins': {'classic': ['steak au poivre',\n",
       "   'grilled chicken',\n",
       "   'salmon with dill'],\n",
       "  'gluten_free': ['', '', ''],\n",
       "  'vegan': ['falafel', 'cauliflower steak', 'grilled portobello']},\n",
       " 'sides': {'classic': ['mashed potatoes', 'fried brussels sprouts'],\n",
       "  'gluten_free': ['grilled asparagus'],\n",
       "  'vegan': ['boiled new potatoes', '', '']},\n",
       " 'pastry': {'classic': [], 'gluten_free': [], 'vegan': []}}"
      ]
     },
     "execution_count": 6,
     "metadata": {},
     "output_type": "execute_result"
    }
   ],
   "source": [
    "menu"
   ]
  },
  {
   "cell_type": "code",
   "execution_count": 8,
   "metadata": {},
   "outputs": [
    {
     "data": {
      "text/plain": [
       "dict_items([('soup', {'classic': ['tomato bisque', 'potato leek', 'french onion'], 'gluten_free': ['broccoli cheddar', 'gaspacho', 'pho'], 'vegan': ['carrot ginger', 'curried sweet potato', 'mulligatawny']}), ('salad', {'classic': ['caesar', 'cobb', 'nicoise'], 'gluten_free': ['larb', 'cole slaw', 'watermelon tomato'], 'vegan': ['mesclun', 'kale', 'lentil']}), ('proteins', {'classic': ['steak au poivre', 'grilled chicken', 'salmon with dill'], 'gluten_free': ['', '', ''], 'vegan': ['falafel', 'cauliflower steak', 'grilled portobello']}), ('sides', {'classic': ['mashed potatoes', 'fried brussels sprouts', 'garlic bread'], 'gluten_free': ['grilled asparagus', 'roasted tomatoes', 'green beans amandine'], 'vegan': ['boiled new potatoes', 'curried cauliflower', 'farro salad']}), ('pastry', {'classic': ['black forest cake', 'lemon bars', 'choux puffs'], 'gluten_free': ['flourless chocolate cake', 'parfaits', 'macarons'], 'vegan': ['sweet potato cake', 'peanut butter cookies', 'fruit salad']})])"
      ]
     },
     "execution_count": 8,
     "metadata": {},
     "output_type": "execute_result"
    }
   ],
   "source": [
    "menu.items()"
   ]
  },
  {
   "cell_type": "code",
   "execution_count": 14,
   "metadata": {},
   "outputs": [
    {
     "name": "stdout",
     "output_type": "stream",
     "text": [
      "SOUP\n",
      "{'classic': ['tomato bisque', 'potato leek', 'french onion'], 'gluten_free': ['broccoli cheddar', 'gaspacho', 'pho'], 'vegan': ['carrot ginger', 'curried sweet potato', 'mulligatawny']}\n",
      "classic\n",
      "['tomato bisque', 'potato leek', 'french onion']\n",
      "gluten_free\n",
      "['broccoli cheddar', 'gaspacho', 'pho']\n",
      "vegan\n",
      "['carrot ginger', 'curried sweet potato', 'mulligatawny']\n",
      "\n",
      "\n",
      "SALAD\n",
      "{'classic': ['caesar', 'cobb', 'nicoise'], 'gluten_free': ['larb', 'cole slaw', 'watermelon tomato'], 'vegan': ['mesclun', 'kale', 'lentil']}\n",
      "classic\n",
      "['caesar', 'cobb', 'nicoise']\n",
      "gluten_free\n",
      "['larb', 'cole slaw', 'watermelon tomato']\n",
      "vegan\n",
      "['mesclun', 'kale', 'lentil']\n",
      "\n",
      "\n",
      "PROTEINS\n",
      "{'classic': ['steak au poivre', 'grilled chicken', 'salmon with dill'], 'gluten_free': ['', '', ''], 'vegan': ['falafel', 'cauliflower steak', 'grilled portobello']}\n",
      "classic\n",
      "['steak au poivre', 'grilled chicken', 'salmon with dill']\n",
      "gluten_free\n",
      "['', '', '']\n",
      "vegan\n",
      "['falafel', 'cauliflower steak', 'grilled portobello']\n",
      "\n",
      "\n",
      "SIDES\n",
      "{'classic': ['mashed potatoes', 'fried brussels sprouts', 'garlic bread'], 'gluten_free': ['grilled asparagus', 'roasted tomatoes', 'green beans amandine'], 'vegan': ['boiled new potatoes', 'curried cauliflower', 'farro salad']}\n",
      "classic\n",
      "['mashed potatoes', 'fried brussels sprouts', 'garlic bread']\n",
      "gluten_free\n",
      "['grilled asparagus', 'roasted tomatoes', 'green beans amandine']\n",
      "vegan\n",
      "['boiled new potatoes', 'curried cauliflower', 'farro salad']\n",
      "\n",
      "\n",
      "PASTRY\n",
      "{'classic': ['black forest cake', 'lemon bars', 'choux puffs'], 'gluten_free': ['flourless chocolate cake', 'parfaits', 'macarons'], 'vegan': ['sweet potato cake', 'peanut butter cookies', 'fruit salad']}\n",
      "classic\n",
      "['black forest cake', 'lemon bars', 'choux puffs']\n",
      "gluten_free\n",
      "['flourless chocolate cake', 'parfaits', 'macarons']\n",
      "vegan\n",
      "['sweet potato cake', 'peanut butter cookies', 'fruit salad']\n",
      "\n",
      "\n"
     ]
    }
   ],
   "source": [
    "for key, value in menu.items():\n",
    "    print(key.upper())\n",
    "    print(value)\n",
    "    for k, v in value.items():\n",
    "        print(k)\n",
    "        print(v)\n",
    "    print('\\n')"
   ]
  },
  {
   "cell_type": "code",
   "execution_count": null,
   "metadata": {},
   "outputs": [],
   "source": []
  },
  {
   "cell_type": "code",
   "execution_count": null,
   "metadata": {},
   "outputs": [],
   "source": []
  },
  {
   "cell_type": "code",
   "execution_count": null,
   "metadata": {},
   "outputs": [],
   "source": []
  },
  {
   "cell_type": "code",
   "execution_count": null,
   "metadata": {},
   "outputs": [],
   "source": []
  },
  {
   "cell_type": "code",
   "execution_count": null,
   "metadata": {},
   "outputs": [],
   "source": []
  },
  {
   "cell_type": "code",
   "execution_count": null,
   "metadata": {},
   "outputs": [],
   "source": []
  },
  {
   "cell_type": "code",
   "execution_count": null,
   "metadata": {},
   "outputs": [],
   "source": []
  },
  {
   "cell_type": "code",
   "execution_count": null,
   "metadata": {},
   "outputs": [],
   "source": []
  },
  {
   "cell_type": "code",
   "execution_count": null,
   "metadata": {},
   "outputs": [],
   "source": []
  },
  {
   "cell_type": "code",
   "execution_count": null,
   "metadata": {},
   "outputs": [],
   "source": []
  }
 ],
 "metadata": {
  "kernelspec": {
   "display_name": "Python 3",
   "language": "python",
   "name": "python3"
  },
  "language_info": {
   "codemirror_mode": {
    "name": "ipython",
    "version": 3
   },
   "file_extension": ".py",
   "mimetype": "text/x-python",
   "name": "python",
   "nbconvert_exporter": "python",
   "pygments_lexer": "ipython3",
   "version": "3.7.0"
  }
 },
 "nbformat": 4,
 "nbformat_minor": 2
}
