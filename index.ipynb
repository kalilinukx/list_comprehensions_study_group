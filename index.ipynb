{
 "cells": [
  {
   "cell_type": "markdown",
   "metadata": {},
   "source": [
    "# List Comprehensions in Python: the How, the Why, and the What Even Are They?\n",
    "\n",
    "A study group by Steven Rosa\n",
    "\n",
    "# Agenda:\n",
    "\n",
    "### What is a list comprehension?\n",
    "\n",
    "### Why use it?\n",
    "\n",
    "### More complicated ones"
   ]
  },
  {
   "cell_type": "markdown",
   "metadata": {},
   "source": [
    "## What is a list comprehension?"
   ]
  },
  {
   "cell_type": "markdown",
   "metadata": {},
   "source": [
    "![gluten.png](https://raw.githubusercontent.com/ssrosa/list_comprehensions_study_group/master/images/gluten.png)"
   ]
  },
  {
   "cell_type": "markdown",
   "metadata": {},
   "source": [
    "### Basics: instantiating lists\n",
    "\n",
    "A list is a collection of items indexed by numbers. You can instantiate a list by manually typing its items:"
   ]
  },
  {
   "cell_type": "code",
   "execution_count": 1,
   "metadata": {},
   "outputs": [],
   "source": [
    "#A list of food allergens\n",
    "allergens = ['fish', 'peanuts', 'wheat', 'shellfish', 'tree nuts', 'eggs', 'milk', 'soy']"
   ]
  },
  {
   "cell_type": "code",
   "execution_count": 2,
   "metadata": {},
   "outputs": [],
   "source": [
    "#A list of dishes containing these allergens\n",
    "dishes = ['baked cod', 'pad thai', 'sandwich', \n",
    "          'fideos', 'beet hazelnut salad', \n",
    "          'frittata', 'cheese plate', 'fried tofu']"
   ]
  },
  {
   "cell_type": "markdown",
   "metadata": {},
   "source": [
    "But it's more likely that you'll instantiate a list by manipulating the items in some other collection you've already got."
   ]
  },
  {
   "cell_type": "code",
   "execution_count": 3,
   "metadata": {},
   "outputs": [],
   "source": [
    "#By manipulating another list\n",
    "sorted_allergens = sorted(allergens)"
   ]
  },
  {
   "cell_type": "code",
   "execution_count": 4,
   "metadata": {},
   "outputs": [
    {
     "data": {
      "text/plain": [
       "['eggs', 'fish', 'milk', 'peanuts', 'shellfish', 'soy', 'tree nuts', 'wheat']"
      ]
     },
     "execution_count": 4,
     "metadata": {},
     "output_type": "execute_result"
    }
   ],
   "source": [
    "sorted_allergens"
   ]
  },
  {
   "cell_type": "markdown",
   "metadata": {},
   "source": [
    "Often you'll build a list with a loop. Loops and collections work together.\n",
    "\n",
    "When you build a list with a loop you have to follow a few steps."
   ]
  },
  {
   "cell_type": "code",
   "execution_count": 13,
   "metadata": {
    "scrolled": true
   },
   "outputs": [
    {
     "data": {
      "text/plain": [
       "['Baked cod has fish.',\n",
       " 'Pad thai has peanuts.',\n",
       " 'Sandwich has wheat.',\n",
       " 'Fideos has shellfish.',\n",
       " 'Beet hazelnut salad has tree nuts.',\n",
       " 'Frittata has eggs.',\n",
       " 'Cheese plate has milk.',\n",
       " 'Fried tofu has soy.']"
      ]
     },
     "execution_count": 13,
     "metadata": {},
     "output_type": "execute_result"
    }
   ],
   "source": [
    "#Step 1: instantiate an empty list\n",
    "allergen_examples = []\n",
    "\n",
    "#Step 2: iterate over a collection\n",
    "for a, d in zip(allergens, dishes):\n",
    "    \n",
    "    #Step 3: append each item to the new list\n",
    "    #The action happens here.\n",
    "    allergen_examples.append((f'{d.capitalize()} has {a}.'))\n",
    "\n",
    "allergen_examples"
   ]
  },
  {
   "cell_type": "markdown",
   "metadata": {},
   "source": [
    "You can use indexing to build a list with a loop, if you want, but it's considered poor style to directly index the items in your original list. Instead, use enumerate( )."
   ]
  },
  {
   "cell_type": "code",
   "execution_count": 11,
   "metadata": {},
   "outputs": [
    {
     "data": {
      "text/plain": [
       "['Baked cod has fish.',\n",
       " 'Pad thai has peanuts.',\n",
       " 'Sandwich has wheat.',\n",
       " 'Fideos has shellfish.',\n",
       " 'Beet hazelnut salad has tree nuts.',\n",
       " 'Frittata has eggs.',\n",
       " 'Cheese plate has milk.',\n",
       " 'Fried tofu has soy.']"
      ]
     },
     "execution_count": 11,
     "metadata": {},
     "output_type": "execute_result"
    }
   ],
   "source": [
    "#By index:\n",
    "allergen_examples = []\n",
    "\n",
    "#Don't do this:\n",
    "#for i in range(len(allergens)):\n",
    "\n",
    "#Do this:\n",
    "for i, a in enumerate(allergens):\n",
    "    example = f'{dishes[i].capitalize()} has {allergens[i]}.'\n",
    "    allergen_examples.append(example)\n",
    "\n",
    "allergen_examples"
   ]
  },
  {
   "cell_type": "markdown",
   "metadata": {},
   "source": [
    "Sometimes you don't want to build a new list, you just want to **do** something to all the items in a collection."
   ]
  },
  {
   "cell_type": "code",
   "execution_count": 3,
   "metadata": {},
   "outputs": [
    {
     "name": "stdout",
     "output_type": "stream",
     "text": [
      "FISH\n",
      "PEANUTS\n",
      "WHEAT\n",
      "SHELLFISH\n",
      "TREE NUTS\n",
      "EGGS\n",
      "MILK\n",
      "SOY\n"
     ]
    }
   ],
   "source": [
    "#Not building a new list, just *doing* something\n",
    "for a in allergens: #For each thing in some collection of things\n",
    "    print(a.upper()) #Do something. (The action takes place here.)"
   ]
  },
  {
   "cell_type": "markdown",
   "metadata": {},
   "source": [
    "### The basics but with list comprehensions\n",
    "\n",
    "List comprehensions take the steps above and squish them into one line. Lists built with for loops are verbose. Lists built with comprehensions are pithy.\n",
    "\n",
    "Everything happens inside the square brackets. This may look unfamiliar if you're used to seeing only static data inside square brackets, not dynamic behavior.\n",
    "\n",
    "The new items being created are just inside the opening bracket. Then comes the keyword **for**, where you define the items you're manipulating, then the keyword **in**, where you define the collection you're iterating over. Then you close the brackets."
   ]
  },
  {
   "cell_type": "code",
   "execution_count": 14,
   "metadata": {},
   "outputs": [
    {
     "data": {
      "text/plain": [
       "['Baked cod has fish.',\n",
       " 'Pad thai has peanuts.',\n",
       " 'Sandwich has wheat.',\n",
       " 'Fideos has shellfish.',\n",
       " 'Beet hazelnut salad has tree nuts.',\n",
       " 'Frittata has eggs.',\n",
       " 'Cheese plate has milk.',\n",
       " 'Fried tofu has soy.']"
      ]
     },
     "execution_count": 14,
     "metadata": {},
     "output_type": "execute_result"
    }
   ],
   "source": [
    "#Verbose:\n",
    "#allergen_examples = []\n",
    "#for a, d in zip(allergens, dishes):\n",
    "    #allergen_examples.append((f'{d.capitalize()} has {a}.'))\n",
    "\n",
    "#Pithy:\n",
    "allergen_examples = [f'{d.capitalize()} has {a}.' for a, d in zip(allergens, dishes)]\n",
    "allergen_examples"
   ]
  },
  {
   "cell_type": "markdown",
   "metadata": {},
   "source": [
    "Maybe you don't want a new list; you just want to do an operation on all the items in a collection. You can use a list comprehension for this too."
   ]
  },
  {
   "cell_type": "code",
   "execution_count": 5,
   "metadata": {},
   "outputs": [
    {
     "data": {
      "text/plain": [
       "['FISH', 'PEANUTS', 'WHEAT', 'SHELLFISH', 'TREE NUTS', 'EGGS', 'MILK', 'SOY']"
      ]
     },
     "execution_count": 5,
     "metadata": {},
     "output_type": "execute_result"
    }
   ],
   "source": [
    "#Verbose:\n",
    "#for a in allergens: \n",
    "#    print(a.upper())\n",
    "\n",
    "#Pithy:\n",
    "[a.upper() for a in allergens] #All the action inside the brackets"
   ]
  },
  {
   "cell_type": "markdown",
   "metadata": {},
   "source": [
    "### Dictionary comprehensions\n",
    "\n",
    "It's the same situation with a dictionary comprehension. The steps are squished onto one line, and the whole dictionary-writing party happens inside the curly brackets. First you define the key, put a colon, and define the value. The keyword **for** lets you define which items you're manipulating, and the keyword **in** defines the collection you're iterating over.\n",
    "\n",
    "You can pull data from multiple collections or functions into one dictionary comprehension. "
   ]
  },
  {
   "cell_type": "code",
   "execution_count": 11,
   "metadata": {},
   "outputs": [
    {
     "data": {
      "text/plain": [
       "{'fish': 'baked cod',\n",
       " 'peanuts': 'pad thai',\n",
       " 'wheat': 'sandwich',\n",
       " 'shellfish': 'fideos',\n",
       " 'tree nuts': 'beet hazelnut salad',\n",
       " 'eggs': 'frittata',\n",
       " 'milk': 'cheese plate',\n",
       " 'soy': 'fried tofu'}"
      ]
     },
     "execution_count": 11,
     "metadata": {},
     "output_type": "execute_result"
    }
   ],
   "source": [
    "# allergen_examples = {}\n",
    "# for a, d in zip(allergens, dishes):\n",
    "#     allergen_examples[a] = d\n",
    "\n",
    "allergen_examples = {a: d for a, d in zip(allergens, dishes)} #All the action inside the brackets\n",
    "allergen_examples"
   ]
  },
  {
   "cell_type": "code",
   "execution_count": 73,
   "metadata": {},
   "outputs": [
    {
     "data": {
      "text/plain": [
       "{'fish': 'baked cod',\n",
       " 'peanuts': 'pad thai',\n",
       " 'wheat': 'sandwich',\n",
       " 'shellfish': 'fideos',\n",
       " 'tree nuts': 'beet hazelnut salad',\n",
       " 'eggs': 'frittata',\n",
       " 'milk': 'cheese plate',\n",
       " 'soy': 'fried tofu'}"
      ]
     },
     "execution_count": 73,
     "metadata": {},
     "output_type": "execute_result"
    }
   ],
   "source": [
    "allergen_examples = {a: dishes[i] for i, a in enumerate(allergens)}\n",
    "allergen_examples"
   ]
  },
  {
   "cell_type": "markdown",
   "metadata": {},
   "source": [
    "## Why though ???\n",
    "\n",
    "Why should we use these? How are they better than building lists and dictionaries with verbose for loops?\n",
    "\n",
    "### 1. Often looks cleaner.\n",
    "\n",
    "Squishing a multi-line process onto one line can make it more readable for the human user. But not always. When comprehensions get more elaborate, as we'll see below, these pitchy lines of code can actually become *less* readable than the verbose versions. You can compensate for this by commenting out your code for those who will read it later.\n",
    "\n",
    "Remember to write your code for the reader (everyone else, forever) and not for the writer (you.)\n",
    "\n",
    "### 2. Time\n",
    "\n",
    "Comprehensions are computationally cheaper than building lists with for loops. Python is optimized for comprehensions. They're a natural fit for the language. This is what we mean when we say they're more 'Pythonic.'\n",
    "\n",
    "![time.gif](https://raw.githubusercontent.com/ssrosa/list_comprehensions_study_group/master/images/time.gif)\n",
    "\n",
    "There is a specific way in which comprehensions are faster than verbose for loops. Consider vector-wise operations. These are fast in Python. In a vector-wise operation, all the items in the **vector**, the list of numbers, do something at the same time. It's like the cha-cha slide. If I say, 'Everybody clap your hands,' and everyone in the line does it, this is faster and more efficient than if I walk up to each person one-by-one and ask them to clap their hands. Right?"
   ]
  },
  {
   "cell_type": "code",
   "execution_count": 3,
   "metadata": {},
   "outputs": [],
   "source": [
    "import numpy as np"
   ]
  },
  {
   "cell_type": "markdown",
   "metadata": {},
   "source": [
    "But vector-wise operations are meant for numerical data. There are a few that work for strings in Python, but there are many situations where you cannot do a vector-wise operation."
   ]
  },
  {
   "cell_type": "code",
   "execution_count": 7,
   "metadata": {},
   "outputs": [
    {
     "data": {
      "text/plain": [
       "array([0, 1, 2, 3, 4, 5, 6, 7, 8, 9])"
      ]
     },
     "execution_count": 7,
     "metadata": {},
     "output_type": "execute_result"
    }
   ],
   "source": [
    "np.arange(10)"
   ]
  },
  {
   "cell_type": "code",
   "execution_count": 8,
   "metadata": {},
   "outputs": [
    {
     "data": {
      "text/plain": [
       "array([100, 101, 102, 103, 104, 105, 106, 107, 108, 109])"
      ]
     },
     "execution_count": 8,
     "metadata": {},
     "output_type": "execute_result"
    }
   ],
   "source": [
    "np.arange(10) + 100 #Everybody clap your hands"
   ]
  },
  {
   "cell_type": "code",
   "execution_count": 9,
   "metadata": {},
   "outputs": [
    {
     "data": {
      "text/plain": [
       "array(['fish', 'peanuts', 'wheat', 'shellfish', 'tree nuts', 'eggs',\n",
       "       'milk', 'soy'], dtype='<U9')"
      ]
     },
     "execution_count": 9,
     "metadata": {},
     "output_type": "execute_result"
    }
   ],
   "source": [
    "#Versus:\n",
    "np.array(allergens)"
   ]
  },
  {
   "cell_type": "code",
   "execution_count": 10,
   "metadata": {},
   "outputs": [
    {
     "ename": "TypeError",
     "evalue": "ufunc 'add' did not contain a loop with signature matching types dtype('<U9') dtype('<U9') dtype('<U9')",
     "output_type": "error",
     "traceback": [
      "\u001b[0;31m---------------------------------------------------------------------------\u001b[0m",
      "\u001b[0;31mTypeError\u001b[0m                                 Traceback (most recent call last)",
      "\u001b[0;32m<ipython-input-10-fb818cb1df6b>\u001b[0m in \u001b[0;36m<module>\u001b[0;34m()\u001b[0m\n\u001b[0;32m----> 1\u001b[0;31m \u001b[0mnp\u001b[0m\u001b[0;34m.\u001b[0m\u001b[0marray\u001b[0m\u001b[0;34m(\u001b[0m\u001b[0mallergens\u001b[0m\u001b[0;34m)\u001b[0m \u001b[0;34m+\u001b[0m \u001b[0;34m'!'\u001b[0m \u001b[0;31m#Everybody clap your hands?\u001b[0m\u001b[0;34m\u001b[0m\u001b[0m\n\u001b[0m",
      "\u001b[0;31mTypeError\u001b[0m: ufunc 'add' did not contain a loop with signature matching types dtype('<U9') dtype('<U9') dtype('<U9')"
     ]
    }
   ],
   "source": [
    "np.array(allergens) + '!' #Everybody clap your hands?"
   ]
  },
  {
   "cell_type": "code",
   "execution_count": null,
   "metadata": {},
   "outputs": [],
   "source": [
    "#Oh. Darnit."
   ]
  },
  {
   "cell_type": "markdown",
   "metadata": {},
   "source": [
    "In these situations you are apparently stuck with a for loop, the slowest of all options. List comprehensions offer a step up in speed in situations like these."
   ]
  },
  {
   "cell_type": "code",
   "execution_count": 11,
   "metadata": {
    "scrolled": true
   },
   "outputs": [
    {
     "data": {
      "text/plain": [
       "['Fish!',\n",
       " 'Peanuts!',\n",
       " 'Wheat!',\n",
       " 'Shellfish!',\n",
       " 'Tree nuts!',\n",
       " 'Eggs!',\n",
       " 'Milk!',\n",
       " 'Soy!']"
      ]
     },
     "execution_count": 11,
     "metadata": {},
     "output_type": "execute_result"
    }
   ],
   "source": [
    "#With a list comprehension:\n",
    "[f'{a.capitalize()}!' for a in allergens]"
   ]
  },
  {
   "cell_type": "markdown",
   "metadata": {},
   "source": [
    "This may not be apparent when working with dinky toy data. But consider a massive data set, say, a billion strings."
   ]
  },
  {
   "cell_type": "code",
   "execution_count": 5,
   "metadata": {},
   "outputs": [],
   "source": [
    "import time"
   ]
  },
  {
   "cell_type": "code",
   "execution_count": 4,
   "metadata": {},
   "outputs": [
    {
     "name": "stdout",
     "output_type": "stream",
     "text": [
      "11.935250647862752 minutes\n"
     ]
    }
   ],
   "source": [
    "#A billion strings\n",
    "billion_verbose = []\n",
    "\n",
    "start = time.time()\n",
    "for i in np.arange(1000000000):\n",
    "    billion_verbose.append(str(i))\n",
    "    \n",
    "end = time.time()\n",
    "print(f'{(end - start) / 60} minutes')"
   ]
  },
  {
   "cell_type": "markdown",
   "metadata": {},
   "source": [
    "On my machine it took about 12 minutes to build a list of 1 billion strings with a for loop."
   ]
  },
  {
   "cell_type": "code",
   "execution_count": 17,
   "metadata": {},
   "outputs": [
    {
     "data": {
      "text/plain": [
       "['0', '1', '2', '3', '4', '5', '6', '7', '8', '9']"
      ]
     },
     "execution_count": 17,
     "metadata": {},
     "output_type": "execute_result"
    }
   ],
   "source": [
    "billion_verbose[:10]"
   ]
  },
  {
   "cell_type": "code",
   "execution_count": 7,
   "metadata": {},
   "outputs": [
    {
     "name": "stdout",
     "output_type": "stream",
     "text": [
      "10.605269034703573 minutes\n"
     ]
    }
   ],
   "source": [
    "start = time.time()\n",
    "billion_pithy = [str(i) for i in np.arange(1000000000)]\n",
    "end = time.time()\n",
    "print(f'{(end - start) / 60} minutes')"
   ]
  },
  {
   "cell_type": "markdown",
   "metadata": {},
   "source": [
    "Whereas it took a minute and 20 seconds less with a list comprehension. Not a dramatic saving in time, but enough to be noticeable. And shaving off a minute here or a minute there will add up when working with very large data sets."
   ]
  },
  {
   "cell_type": "markdown",
   "metadata": {},
   "source": [
    "## Complicated variants: nesting and conditional statements"
   ]
  },
  {
   "cell_type": "markdown",
   "metadata": {},
   "source": [
    "![nesting.jpg](https://raw.githubusercontent.com/ssrosa/list_comprehensions_study_group/master/images/nesting.jpg)\n",
    "\n",
    "### Two counter-intuitive things to consider:\n",
    "\n",
    "1. Building nested list comprehensions is very useful but also very confusing. You don't define the 'nests' in the order you'd expect. You'll see what I mean.\n",
    "\n",
    "2. Conditional statements add flexibility to your code but when you put them in list comprehensions, sometimes they go at the front and sometimes they go at the back. It feels like an exception to a grammar rule. We'll look at examples.\n",
    "\n",
    "First, nesting. Let's say we've got a nested list. It's a catering menu for a wedding. We're not sure why it's nested this way when we receive the data from whoever."
   ]
  },
  {
   "cell_type": "code",
   "execution_count": 4,
   "metadata": {},
   "outputs": [],
   "source": [
    "menu = [\n",
    "            [\n",
    "                [\n",
    "                    'tomato bisque', 'potato leek', 'french onion'\n",
    "                ],\n",
    "                [\n",
    "                    'broccoli cheddar', 'gaspacho', 'minestrone'\n",
    "                ],\n",
    "                [\n",
    "                    'carrot ginger', 'curried sweet potato', 'mulligatawny',\n",
    "                ]\n",
    "            ],\n",
    "            [\n",
    "                [\n",
    "                    'caesar', 'cobb', 'nicoise'\n",
    "                ],\n",
    "                [\n",
    "                    'larb', 'cole slaw', 'watermelon tomato'\n",
    "                ],\n",
    "                [\n",
    "                    'mesclun', 'kale', 'lentil'\n",
    "                ]\n",
    "            ],\n",
    "            [\n",
    "               [\n",
    "                    'steak au poivre', 'grilled chicken', 'salmon with dill'\n",
    "                ],\n",
    "                [\n",
    "                    '', '', ''\n",
    "                ],\n",
    "               [\n",
    "                    'falafel', 'cauliflower steak', 'grilled portobello'\n",
    "                ]\n",
    "            ],\n",
    "            [\n",
    "                [\n",
    "                    'mashed potatoes', 'fried brussels sprouts', 'garlic bread'\n",
    "                ],\n",
    "                [\n",
    "                    'grilled asparagus', 'roasted tomatoes', 'green beans amandine'\n",
    "                ],\n",
    "                [\n",
    "                    'boiled new potatoes', 'curried cauliflower', 'farro salad'\n",
    "                ]\n",
    "            ],\n",
    "            [\n",
    "                [\n",
    "                    'black forest cake', 'lemon bars', 'choux puffs'\n",
    "                ],\n",
    "                [\n",
    "                    'flourless chocolate cake', 'parfaits', 'macarons'\n",
    "                ],\n",
    "                [\n",
    "                    'sweet potato cake', 'peanut butter cookies', 'fruit salad'\n",
    "                ]\n",
    "            ],\n",
    "        ]"
   ]
  },
  {
   "cell_type": "code",
   "execution_count": 76,
   "metadata": {
    "collapsed": true
   },
   "outputs": [
    {
     "data": {
      "text/plain": [
       "[[['tomato bisque', 'potato leek', 'french onion'],\n",
       "  ['broccoli cheddar', 'gaspacho', 'minestrone'],\n",
       "  ['carrot ginger', 'curried sweet potato', 'mulligatawny']],\n",
       " [['caesar', 'cobb', 'nicoise'],\n",
       "  ['larb', 'cole slaw', 'watermelon tomato'],\n",
       "  ['mesclun', 'kale', 'lentil']],\n",
       " [['steak au poivre', 'grilled chicken', 'salmon with dill'],\n",
       "  ['', '', ''],\n",
       "  ['falafel', 'cauliflower steak', 'grilled portobello']],\n",
       " [['mashed potatoes', 'fried brussels sprouts', 'garlic bread'],\n",
       "  ['grilled asparagus', 'roasted tomatoes', 'green beans amandine'],\n",
       "  ['boiled new potatoes', 'curried cauliflower', 'farro salad']],\n",
       " [['black forest cake', 'lemon bars', 'choux puffs'],\n",
       "  ['flourless chocolate cake', 'parfaits', 'macarons'],\n",
       "  ['sweet potato cake', 'peanut butter cookies', 'fruit salad']]]"
      ]
     },
     "execution_count": 76,
     "metadata": {},
     "output_type": "execute_result"
    }
   ],
   "source": [
    "menu"
   ]
  },
  {
   "cell_type": "markdown",
   "metadata": {},
   "source": [
    "Later, somebody pops by your desk and says, Oh by the way, that data set? It's supposed to be divided into 5 courses."
   ]
  },
  {
   "cell_type": "code",
   "execution_count": 5,
   "metadata": {},
   "outputs": [],
   "source": [
    "courses = ['soup', 'salad', 'main', 'sides', 'dessert']"
   ]
  },
  {
   "cell_type": "markdown",
   "metadata": {},
   "source": [
    "Ah. That explains the outer layer of nesting. What about the inner layer? Why are the dishes separated into groups of 3?\n",
    "\n",
    "It turns out there are 3 'styles' for each course."
   ]
  },
  {
   "cell_type": "code",
   "execution_count": 6,
   "metadata": {},
   "outputs": [],
   "source": [
    "styles = ['classic', 'gluten free', 'vegan']"
   ]
  },
  {
   "cell_type": "markdown",
   "metadata": {},
   "source": [
    "Okay. The menu has 5 courses and each course has 3 style options. But we don't really care about that right now. What we want first is a *flat* list of dishes. We want to get rid of the nesting."
   ]
  },
  {
   "cell_type": "code",
   "execution_count": 2,
   "metadata": {
    "collapsed": true
   },
   "outputs": [
    {
     "data": {
      "text/plain": [
       "['tomato bisque',\n",
       " 'potato leek',\n",
       " 'french onion',\n",
       " 'broccoli cheddar',\n",
       " 'gaspacho',\n",
       " 'minestrone',\n",
       " 'carrot ginger',\n",
       " 'curried sweet potato',\n",
       " 'mulligatawny',\n",
       " 'caesar',\n",
       " 'cobb',\n",
       " 'nicoise',\n",
       " 'larb',\n",
       " 'cole slaw',\n",
       " 'watermelon tomato',\n",
       " 'mesclun',\n",
       " 'kale',\n",
       " 'lentil',\n",
       " 'steak au poivre',\n",
       " 'grilled chicken',\n",
       " 'salmon with dill',\n",
       " '',\n",
       " '',\n",
       " '',\n",
       " 'falafel',\n",
       " 'cauliflower steak',\n",
       " 'grilled portobello',\n",
       " 'mashed potatoes',\n",
       " 'fried brussels sprouts',\n",
       " 'garlic bread',\n",
       " 'grilled asparagus',\n",
       " 'roasted tomatoes',\n",
       " 'green beans amandine',\n",
       " 'boiled new potatoes',\n",
       " 'curried cauliflower',\n",
       " 'farro salad',\n",
       " 'black forest cake',\n",
       " 'lemon bars',\n",
       " 'choux puffs',\n",
       " 'flourless chocolate cake',\n",
       " 'parfaits',\n",
       " 'macarons',\n",
       " 'sweet potato cake',\n",
       " 'peanut butter cookies',\n",
       " 'fruit salad']"
      ]
     },
     "execution_count": 2,
     "metadata": {},
     "output_type": "execute_result"
    }
   ],
   "source": [
    "#The verbose way\n",
    "dishes = []\n",
    "\n",
    "for course in menu:\n",
    "    for style in course:\n",
    "        for food in style:\n",
    "            #if food:\n",
    "            dishes.append(food)\n",
    "            \n",
    "dishes"
   ]
  },
  {
   "cell_type": "markdown",
   "metadata": {},
   "source": [
    "We've got 3 for loops nested inside each other like concentric wheels turning. The action happens at the center, when a dish of food is added to our new list. This approach works but it turns out not to be good style. If you were doing something specific at each step in your nested for loop, then it might be appropriate to use nested loops like this. In general, though, it's better style to use a nested list comprehension.\n",
    "\n",
    "Nested list comprehensions are not intuitive to construct but it helps to take them step by step. Let's get a list comprehension for our outer-most layer first:"
   ]
  },
  {
   "cell_type": "code",
   "execution_count": 79,
   "metadata": {
    "collapsed": true
   },
   "outputs": [
    {
     "data": {
      "text/plain": [
       "[[['tomato bisque', 'potato leek', 'french onion'],\n",
       "  ['broccoli cheddar', 'gaspacho', 'minestrone'],\n",
       "  ['carrot ginger', 'curried sweet potato', 'mulligatawny']],\n",
       " [['caesar', 'cobb', 'nicoise'],\n",
       "  ['larb', 'cole slaw', 'watermelon tomato'],\n",
       "  ['mesclun', 'kale', 'lentil']],\n",
       " [['steak au poivre', 'grilled chicken', 'salmon with dill'],\n",
       "  ['', '', ''],\n",
       "  ['falafel', 'cauliflower steak', 'grilled portobello']],\n",
       " [['mashed potatoes', 'fried brussels sprouts', 'garlic bread'],\n",
       "  ['grilled asparagus', 'roasted tomatoes', 'green beans amandine'],\n",
       "  ['boiled new potatoes', 'curried cauliflower', 'farro salad']],\n",
       " [['black forest cake', 'lemon bars', 'choux puffs'],\n",
       "  ['flourless chocolate cake', 'parfaits', 'macarons'],\n",
       "  ['sweet potato cake', 'peanut butter cookies', 'fruit salad']]]"
      ]
     },
     "execution_count": 79,
     "metadata": {},
     "output_type": "execute_result"
    }
   ],
   "source": [
    "#Big for big in list\n",
    "[course for course in menu]"
   ]
  },
  {
   "cell_type": "markdown",
   "metadata": {},
   "source": [
    "Not helpful. The data looks the same as it did before. Let's go one layer deeper. You might expect us to write code that says something like, 'Get each style for all the styles in each course for all the courses.' i.e. 'Get the values at the bottom layer for each value in the high layer.' Lowest to highest, smallest to biggest.\n",
    "\n",
    "It turns out we don't write it that way. Instead, we say something like 'Get the values at the bottom layer for the top layer; first get the values for the top layer, then the values for the bottom layer.' \n",
    "\n",
    "What? Small to big, big back to small?"
   ]
  },
  {
   "cell_type": "code",
   "execution_count": 80,
   "metadata": {
    "collapsed": true
   },
   "outputs": [
    {
     "data": {
      "text/plain": [
       "[['tomato bisque', 'potato leek', 'french onion'],\n",
       " ['broccoli cheddar', 'gaspacho', 'minestrone'],\n",
       " ['carrot ginger', 'curried sweet potato', 'mulligatawny'],\n",
       " ['caesar', 'cobb', 'nicoise'],\n",
       " ['larb', 'cole slaw', 'watermelon tomato'],\n",
       " ['mesclun', 'kale', 'lentil'],\n",
       " ['steak au poivre', 'grilled chicken', 'salmon with dill'],\n",
       " ['', '', ''],\n",
       " ['falafel', 'cauliflower steak', 'grilled portobello'],\n",
       " ['mashed potatoes', 'fried brussels sprouts', 'garlic bread'],\n",
       " ['grilled asparagus', 'roasted tomatoes', 'green beans amandine'],\n",
       " ['boiled new potatoes', 'curried cauliflower', 'farro salad'],\n",
       " ['black forest cake', 'lemon bars', 'choux puffs'],\n",
       " ['flourless chocolate cake', 'parfaits', 'macarons'],\n",
       " ['sweet potato cake', 'peanut butter cookies', 'fruit salad']]"
      ]
     },
     "execution_count": 80,
     "metadata": {},
     "output_type": "execute_result"
    }
   ],
   "source": [
    "#Medium for big in LIST for medium in big\n",
    "[style for course in menu for style in course]"
   ]
  },
  {
   "cell_type": "markdown",
   "metadata": {},
   "source": [
    "This sounds wrong but is correct. It removes one layer of nesting and gets us closer to what we want. Now let's go down one layer deeper.\n",
    "\n",
    "We want the small in the medium for the medium in the big for the big. But what we have to write is:\n",
    "\n",
    "'Get the smallest for the big in the big, for the medium in the big, for the small in the medium.'\n",
    "\n",
    "We go from smallest all the way up to biggest, then back down to smallest in descending order. This is counter-intuitive for the human (I'm sorry) but the machine likes it."
   ]
  },
  {
   "cell_type": "markdown",
   "metadata": {},
   "source": [
    "![smallforbig.png](https://raw.githubusercontent.com/ssrosa/list_comprehensions_study_group/master/images/smallforbig.png)\n"
   ]
  },
  {
   "cell_type": "code",
   "execution_count": 91,
   "metadata": {
    "collapsed": true
   },
   "outputs": [
    {
     "data": {
      "text/plain": [
       "['tomato bisque',\n",
       " 'potato leek',\n",
       " 'french onion',\n",
       " 'broccoli cheddar',\n",
       " 'gaspacho',\n",
       " 'minestrone',\n",
       " 'carrot ginger',\n",
       " 'curried sweet potato',\n",
       " 'mulligatawny',\n",
       " 'caesar',\n",
       " 'cobb',\n",
       " 'nicoise',\n",
       " 'larb',\n",
       " 'cole slaw',\n",
       " 'watermelon tomato',\n",
       " 'mesclun',\n",
       " 'kale',\n",
       " 'lentil',\n",
       " 'steak au poivre',\n",
       " 'grilled chicken',\n",
       " 'salmon with dill',\n",
       " '',\n",
       " '',\n",
       " '',\n",
       " 'falafel',\n",
       " 'cauliflower steak',\n",
       " 'grilled portobello',\n",
       " 'mashed potatoes',\n",
       " 'fried brussels sprouts',\n",
       " 'garlic bread',\n",
       " 'grilled asparagus',\n",
       " 'roasted tomatoes',\n",
       " 'green beans amandine',\n",
       " 'boiled new potatoes',\n",
       " 'curried cauliflower',\n",
       " 'farro salad',\n",
       " 'black forest cake',\n",
       " 'lemon bars',\n",
       " 'choux puffs',\n",
       " 'flourless chocolate cake',\n",
       " 'parfaits',\n",
       " 'macarons',\n",
       " 'sweet potato cake',\n",
       " 'peanut butter cookies',\n",
       " 'fruit salad']"
      ]
     },
     "execution_count": 91,
     "metadata": {},
     "output_type": "execute_result"
    }
   ],
   "source": [
    "#Small for big in LIST for medium in big for small in medium\n",
    "[food for course in menu for style in course for food in style]"
   ]
  },
  {
   "cell_type": "markdown",
   "metadata": {},
   "source": [
    "This crazy code works. It flattens a nested structure and it does it one line: very Pythonic.\n",
    "\n",
    "Notice those missing values? We can drop them by adding a tidy conditional statement to the end of the list comprehension. An empty string is Falsey so a test for the boolean value of an empty string will return False. The empty string will get left out of the new list comprehension."
   ]
  },
  {
   "cell_type": "code",
   "execution_count": 82,
   "metadata": {
    "collapsed": true
   },
   "outputs": [
    {
     "data": {
      "text/plain": [
       "['tomato bisque',\n",
       " 'potato leek',\n",
       " 'french onion',\n",
       " 'broccoli cheddar',\n",
       " 'gaspacho',\n",
       " 'minestrone',\n",
       " 'carrot ginger',\n",
       " 'curried sweet potato',\n",
       " 'mulligatawny',\n",
       " 'caesar',\n",
       " 'cobb',\n",
       " 'nicoise',\n",
       " 'larb',\n",
       " 'cole slaw',\n",
       " 'watermelon tomato',\n",
       " 'mesclun',\n",
       " 'kale',\n",
       " 'lentil',\n",
       " 'steak au poivre',\n",
       " 'grilled chicken',\n",
       " 'salmon with dill',\n",
       " 'falafel',\n",
       " 'cauliflower steak',\n",
       " 'grilled portobello',\n",
       " 'mashed potatoes',\n",
       " 'fried brussels sprouts',\n",
       " 'garlic bread',\n",
       " 'grilled asparagus',\n",
       " 'roasted tomatoes',\n",
       " 'green beans amandine',\n",
       " 'boiled new potatoes',\n",
       " 'curried cauliflower',\n",
       " 'farro salad',\n",
       " 'black forest cake',\n",
       " 'lemon bars',\n",
       " 'choux puffs',\n",
       " 'flourless chocolate cake',\n",
       " 'parfaits',\n",
       " 'macarons',\n",
       " 'sweet potato cake',\n",
       " 'peanut butter cookies',\n",
       " 'fruit salad']"
      ]
     },
     "execution_count": 82,
     "metadata": {},
     "output_type": "execute_result"
    }
   ],
   "source": [
    "#With if statement (must be at the end)\n",
    "[food for course in menu for style in course for food in style if food]"
   ]
  },
  {
   "cell_type": "markdown",
   "metadata": {},
   "source": [
    "What if you don't want the string but for some reason you need a placeholder where that string was? Maybe your list needs to maintain the original length so that your code elsewhere doesn't break. You can use an if/else statement but you cannot put it at the end. It has to go at the beginning."
   ]
  },
  {
   "cell_type": "code",
   "execution_count": 83,
   "metadata": {
    "collapsed": true
   },
   "outputs": [
    {
     "data": {
      "text/plain": [
       "['tomato bisque',\n",
       " 'potato leek',\n",
       " 'french onion',\n",
       " 'broccoli cheddar',\n",
       " 'gaspacho',\n",
       " 'minestrone',\n",
       " 'carrot ginger',\n",
       " 'curried sweet potato',\n",
       " 'mulligatawny',\n",
       " 'caesar',\n",
       " 'cobb',\n",
       " 'nicoise',\n",
       " 'larb',\n",
       " 'cole slaw',\n",
       " 'watermelon tomato',\n",
       " 'mesclun',\n",
       " 'kale',\n",
       " 'lentil',\n",
       " 'steak au poivre',\n",
       " 'grilled chicken',\n",
       " 'salmon with dill',\n",
       " 'Not available',\n",
       " 'Not available',\n",
       " 'Not available',\n",
       " 'falafel',\n",
       " 'cauliflower steak',\n",
       " 'grilled portobello',\n",
       " 'mashed potatoes',\n",
       " 'fried brussels sprouts',\n",
       " 'garlic bread',\n",
       " 'grilled asparagus',\n",
       " 'roasted tomatoes',\n",
       " 'green beans amandine',\n",
       " 'boiled new potatoes',\n",
       " 'curried cauliflower',\n",
       " 'farro salad',\n",
       " 'black forest cake',\n",
       " 'lemon bars',\n",
       " 'choux puffs',\n",
       " 'flourless chocolate cake',\n",
       " 'parfaits',\n",
       " 'macarons',\n",
       " 'sweet potato cake',\n",
       " 'peanut butter cookies',\n",
       " 'fruit salad']"
      ]
     },
     "execution_count": 83,
     "metadata": {},
     "output_type": "execute_result"
    }
   ],
   "source": [
    "#Maybe you need placeholder values to preserve the length of the list\n",
    "#With if/else statement (must be at the beginning)\n",
    "[food if food else 'Not available' for course in menu for style in course for food in style]"
   ]
  },
  {
   "cell_type": "markdown",
   "metadata": {},
   "source": [
    "'If' at the end, 'if/else' at the beginning.\n",
    "\n",
    "### A nested dictionary\n",
    "\n",
    "Last thing. Let's say that person from before pops by your desk again and says, Oh, by the way, don't flatten the structure of that list. The client needs to know which course is which and which dishes are in which style.\n",
    "\n",
    "You've already spent all this time flattening the list, but okay, sure, thanks. It sounds like what they want is a nested dictionary. We can buid one with a dictionary comprehension.\n",
    "\n",
    "Remember our list of courses."
   ]
  },
  {
   "cell_type": "code",
   "execution_count": 89,
   "metadata": {},
   "outputs": [
    {
     "data": {
      "text/plain": [
       "['soup', 'salad', 'main', 'sides', 'dessert']"
      ]
     },
     "execution_count": 89,
     "metadata": {},
     "output_type": "execute_result"
    }
   ],
   "source": [
    "#Biggest:\n",
    "courses"
   ]
  },
  {
   "cell_type": "markdown",
   "metadata": {},
   "source": [
    "...and our list of styles."
   ]
  },
  {
   "cell_type": "code",
   "execution_count": 90,
   "metadata": {},
   "outputs": [
    {
     "data": {
      "text/plain": [
       "['classic', 'gluten free', 'vegan']"
      ]
     },
     "execution_count": 90,
     "metadata": {},
     "output_type": "execute_result"
    }
   ],
   "source": [
    "#Medium:\n",
    "styles"
   ]
  },
  {
   "cell_type": "markdown",
   "metadata": {},
   "source": [
    "We can weave these together with our nested menu list to create a new dictionary comprehension. Let's take it one step at a time. First let's get our outer layer, the courses."
   ]
  },
  {
   "cell_type": "code",
   "execution_count": 97,
   "metadata": {},
   "outputs": [
    {
     "data": {
      "text/plain": [
       "{'soup': {}, 'salad': {}, 'main': {}, 'sides': {}, 'dessert': {}}"
      ]
     },
     "execution_count": 97,
     "metadata": {},
     "output_type": "execute_result"
    }
   ],
   "source": [
    "{course: {} for i, course in enumerate(courses)}"
   ]
  },
  {
   "cell_type": "markdown",
   "metadata": {},
   "source": [
    "We're enumerating the courses for good measure. The indices 0 through 4 may come in handy in a minute.\n",
    "\n",
    "Now let's go one layer down. We'll build a new dictionary of styles with the value for each course as a key. That's right, a dictionary comprehenion inside another dictionary comprehension. Check it out."
   ]
  },
  {
   "cell_type": "code",
   "execution_count": 98,
   "metadata": {},
   "outputs": [
    {
     "data": {
      "text/plain": [
       "{'soup': {'classic': (), 'gluten free': (), 'vegan': ()},\n",
       " 'salad': {'classic': (), 'gluten free': (), 'vegan': ()},\n",
       " 'main': {'classic': (), 'gluten free': (), 'vegan': ()},\n",
       " 'sides': {'classic': (), 'gluten free': (), 'vegan': ()},\n",
       " 'dessert': {'classic': (), 'gluten free': (), 'vegan': ()}}"
      ]
     },
     "execution_count": 98,
     "metadata": {},
     "output_type": "execute_result"
    }
   ],
   "source": [
    "{course: {style: () for j, style in enumerate(styles)} for i, course in enumerate(courses)}"
   ]
  },
  {
   "cell_type": "markdown",
   "metadata": {},
   "source": [
    "We've enumerated the styles 0 through 2 for good measure. Great. Now we need to populate those empty style tuples with something.\n",
    "\n",
    "Hmm. What about those indices that we enumerated? We had 0 through 5 in the outer layer and 0 through 2 in the inner layer."
   ]
  },
  {
   "cell_type": "code",
   "execution_count": 95,
   "metadata": {},
   "outputs": [
    {
     "data": {
      "text/plain": [
       "{'soup': {'classic': (0, 0), 'gluten free': (0, 1), 'vegan': (0, 2)},\n",
       " 'salad': {'classic': (1, 0), 'gluten free': (1, 1), 'vegan': (1, 2)},\n",
       " 'main': {'classic': (2, 0), 'gluten free': (2, 1), 'vegan': (2, 2)},\n",
       " 'sides': {'classic': (3, 0), 'gluten free': (3, 1), 'vegan': (3, 2)},\n",
       " 'dessert': {'classic': (4, 0), 'gluten free': (4, 1), 'vegan': (4, 2)}}"
      ]
     },
     "execution_count": 95,
     "metadata": {},
     "output_type": "execute_result"
    }
   ],
   "source": [
    "{course: {style: (i,j) for j, style in enumerate(styles)} for i, course in enumerate(courses)}"
   ]
  },
  {
   "cell_type": "markdown",
   "metadata": {},
   "source": [
    "These unique combitions of indices look like coordinates. In fact, if we take another look at our original menu, we can see how we might use them."
   ]
  },
  {
   "cell_type": "code",
   "execution_count": 105,
   "metadata": {},
   "outputs": [
    {
     "data": {
      "text/plain": [
       "[[['tomato bisque', 'potato leek', 'french onion'],\n",
       "  ['broccoli cheddar', 'gaspacho', 'minestrone'],\n",
       "  ['carrot ginger', 'curried sweet potato', 'mulligatawny']],\n",
       " [['caesar', 'cobb', 'nicoise'],\n",
       "  ['larb', 'cole slaw', 'watermelon tomato'],\n",
       "  ['mesclun', 'kale', 'lentil']],\n",
       " [['steak au poivre', 'grilled chicken', 'salmon with dill'],\n",
       "  ['', '', ''],\n",
       "  ['falafel', 'cauliflower steak', 'grilled portobello']],\n",
       " [['mashed potatoes', 'fried brussels sprouts', 'garlic bread'],\n",
       "  ['grilled asparagus', 'roasted tomatoes', 'green beans amandine'],\n",
       "  ['boiled new potatoes', 'curried cauliflower', 'farro salad']],\n",
       " [['black forest cake', 'lemon bars', 'choux puffs'],\n",
       "  ['flourless chocolate cake', 'parfaits', 'macarons'],\n",
       "  ['sweet potato cake', 'peanut butter cookies', 'fruit salad']]]"
      ]
     },
     "execution_count": 105,
     "metadata": {},
     "output_type": "execute_result"
    }
   ],
   "source": [
    "#Our original menu\n",
    "menu"
   ]
  },
  {
   "cell_type": "code",
   "execution_count": 4,
   "metadata": {},
   "outputs": [
    {
     "data": {
      "text/plain": [
       "['tomato bisque', 'potato leek', 'french onion']"
      ]
     },
     "execution_count": 4,
     "metadata": {},
     "output_type": "execute_result"
    }
   ],
   "source": [
    "#Using these indices to find foods on our menu\n",
    "menu[0][0]"
   ]
  },
  {
   "cell_type": "markdown",
   "metadata": {},
   "source": [
    "Ah. The values at 0,0 in the original nested list correspond to the values we'd like to insert into our new dictionary. This is how we weave in the original nested list. Let's put it all together."
   ]
  },
  {
   "cell_type": "code",
   "execution_count": 84,
   "metadata": {},
   "outputs": [
    {
     "data": {
      "text/plain": [
       "{'soup': {'classic': ['tomato bisque', 'potato leek', 'french onion'],\n",
       "  'gluten free': ['broccoli cheddar', 'gaspacho', 'minestrone'],\n",
       "  'vegan': ['carrot ginger', 'curried sweet potato', 'mulligatawny']},\n",
       " 'salad': {'classic': ['caesar', 'cobb', 'nicoise'],\n",
       "  'gluten free': ['larb', 'cole slaw', 'watermelon tomato'],\n",
       "  'vegan': ['mesclun', 'kale', 'lentil']},\n",
       " 'main': {'classic': ['steak au poivre',\n",
       "   'grilled chicken',\n",
       "   'salmon with dill'],\n",
       "  'gluten free': ['', '', ''],\n",
       "  'vegan': ['falafel', 'cauliflower steak', 'grilled portobello']},\n",
       " 'sides': {'classic': ['mashed potatoes',\n",
       "   'fried brussels sprouts',\n",
       "   'garlic bread'],\n",
       "  'gluten free': ['grilled asparagus',\n",
       "   'roasted tomatoes',\n",
       "   'green beans amandine'],\n",
       "  'vegan': ['boiled new potatoes', 'curried cauliflower', 'farro salad']},\n",
       " 'dessert': {'classic': ['black forest cake', 'lemon bars', 'choux puffs'],\n",
       "  'gluten free': ['flourless chocolate cake', 'parfaits', 'macarons'],\n",
       "  'vegan': ['sweet potato cake', 'peanut butter cookies', 'fruit salad']}}"
      ]
     },
     "execution_count": 84,
     "metadata": {},
     "output_type": "execute_result"
    }
   ],
   "source": [
    "{course: {style: [food for food in menu[i][j]] for j, style in enumerate(styles)} for i, course in enumerate(courses)}"
   ]
  },
  {
   "cell_type": "markdown",
   "metadata": {},
   "source": [
    "PEP8 style would admonish you not to let one line of code run on that long. You'd have to cut it in half with a back slash somewhere, but the machine would still read it as one line and you'd still get the benefit of increased speed.\n",
    "\n",
    "In one line of code (sort of), we've created a new nested dictionary with all the information we need. That's the power of comprehensions."
   ]
  },
  {
   "cell_type": "markdown",
   "metadata": {},
   "source": [
    "# <center>The end.</center>\n",
    "\n",
    "#### Join me on the social things:\n",
    "\n",
    "#### http://linkedin.com/in/ssrosa\n",
    "\n",
    "#### http://github.com/ssrosa\n",
    "\n",
    "#### http://medium.com/@ssrosa"
   ]
  }
 ],
 "metadata": {
  "kernelspec": {
   "display_name": "Python 3",
   "language": "python",
   "name": "python3"
  },
  "language_info": {
   "codemirror_mode": {
    "name": "ipython",
    "version": 3
   },
   "file_extension": ".py",
   "mimetype": "text/x-python",
   "name": "python",
   "nbconvert_exporter": "python",
   "pygments_lexer": "ipython3",
   "version": "3.7.0"
  }
 },
 "nbformat": 4,
 "nbformat_minor": 2
}
