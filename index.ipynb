{
 "cells": [
  {
   "cell_type": "markdown",
   "metadata": {},
   "source": [
    ".\n",
    "\n",
    ".\n",
    "\n",
    ".\n",
    "\n",
    ".\n",
    "\n",
    ".\n",
    "\n",
    ".\n",
    "\n",
    ".\n",
    "\n",
    ".\n",
    "\n",
    "# <center>Hi!</center>\n",
    "\n",
    ".\n",
    "\n",
    ".\n",
    "\n",
    ".\n",
    "\n",
    ".\n",
    "\n",
    ".\n",
    "\n",
    ".\n",
    "\n",
    ".\n",
    "\n",
    "."
   ]
  },
  {
   "cell_type": "markdown",
   "metadata": {},
   "source": [
    "# List Comprehensions in Python: the How, the Why, and the What Even Are They?\n",
    "\n",
    "# Contents\n",
    "\n",
    "- [What is a list comprehension?](#)\n",
    "- [Why use them?]\n",
    "- [with conditional statements (if/else]\n",
    "- [with nesting]\n",
    "- [Dictionary comprehensions]\n"
   ]
  },
  {
   "cell_type": "code",
   "execution_count": null,
   "metadata": {},
   "outputs": [],
   "source": []
  },
  {
   "cell_type": "markdown",
   "metadata": {},
   "source": [
    "## What is a list comprehension?\n",
    "\n",
    "### A list:"
   ]
  },
  {
   "cell_type": "code",
   "execution_count": 7,
   "metadata": {},
   "outputs": [],
   "source": [
    "allergens = ['fish', 'peanuts', 'wheat', 'shellfish', 'tree nuts', 'eggs', 'milk', 'soy']\n"
   ]
  },
  {
   "cell_type": "code",
   "execution_count": null,
   "metadata": {},
   "outputs": [],
   "source": [
    "dishes = ['baked cod', 'pad thai', 'sandwich', \n",
    "          'fideos', 'beet hazelnut salad', \n",
    "          'frittata', 'cheese plate', 'fried tofu']"
   ]
  },
  {
   "cell_type": "code",
   "execution_count": 3,
   "metadata": {},
   "outputs": [],
   "source": [
    "sorted_allergens = sorted(allergens)"
   ]
  },
  {
   "cell_type": "code",
   "execution_count": 4,
   "metadata": {},
   "outputs": [
    {
     "data": {
      "text/plain": [
       "['eggs', 'fish', 'milk', 'peanuts', 'shellfish', 'soy', 'tree nuts', 'wheat']"
      ]
     },
     "execution_count": 4,
     "metadata": {},
     "output_type": "execute_result"
    }
   ],
   "source": [
    "sorted_allergens"
   ]
  },
  {
   "cell_type": "code",
   "execution_count": 8,
   "metadata": {},
   "outputs": [
    {
     "name": "stdout",
     "output_type": "stream",
     "text": [
      "Watch out, baked cod contains fish!\n",
      "Watch out, pad thai contains peanuts!\n",
      "Watch out, sandwich contains wheat!\n",
      "Watch out, fideos contains shellfish!\n",
      "Watch out, beet hazelnut salad contains tree nuts!\n",
      "Watch out, frittata contains eggs!\n",
      "Watch out, cheese plate contains milk!\n",
      "Watch out, fried tofu contains soy!\n"
     ]
    }
   ],
   "source": [
    "for a, d in zip(allergens, dishes): \n",
    "    \n",
    "    print(f'Watch out, {d} contains {a}!')"
   ]
  },
  {
   "cell_type": "markdown",
   "metadata": {},
   "source": [
    "#### 'I like that, can you send me a list of the allergens with an example for each of a dish containing the allergen?'"
   ]
  },
  {
   "cell_type": "code",
   "execution_count": 61,
   "metadata": {},
   "outputs": [
    {
     "data": {
      "text/plain": [
       "[('fish', 'baked cod'),\n",
       " ('peanuts', 'pad thai'),\n",
       " ('wheat', 'sandwich'),\n",
       " ('shellfish', 'fideos'),\n",
       " ('tree nuts', 'beet hazelnut salad'),\n",
       " ('eggs', 'frittata'),\n",
       " ('milk', 'cheese plate'),\n",
       " ('soy', 'fried tofu')]"
      ]
     },
     "execution_count": 61,
     "metadata": {},
     "output_type": "execute_result"
    }
   ],
   "source": [
    "allergen_examples = []\n",
    "\n",
    "for a, d in zip(allergens, dishes):\n",
    "    example_tuple = (a, d)\n",
    "    allergen_examples.append(example_tuple)\n",
    "\n",
    "allergen_examples"
   ]
  },
  {
   "cell_type": "code",
   "execution_count": 63,
   "metadata": {},
   "outputs": [
    {
     "data": {
      "text/plain": [
       "[('fish', 'baked cod'),\n",
       " ('peanuts', 'pad thai'),\n",
       " ('wheat', 'sandwich'),\n",
       " ('shellfish', 'fideos'),\n",
       " ('tree nuts', 'beet hazelnut salad'),\n",
       " ('eggs', 'frittata'),\n",
       " ('milk', 'cheese plate'),\n",
       " ('soy', 'fried tofu')]"
      ]
     },
     "execution_count": 63,
     "metadata": {},
     "output_type": "execute_result"
    }
   ],
   "source": [
    "#Or, by index:\n",
    "allergen_examples = []\n",
    "\n",
    "#Don't do this:\n",
    "#for i in range(allergens):\n",
    "    \n",
    "for i, a in enumerate(allergens):\n",
    "    example_tuple = (allergens[i], dishes[i])\n",
    "    allergen_examples.append(example_tuple)\n",
    "\n",
    "allergen_examples"
   ]
  },
  {
   "cell_type": "code",
   "execution_count": 64,
   "metadata": {},
   "outputs": [
    {
     "data": {
      "text/plain": [
       "[('fish', 'baked cod'),\n",
       " ('peanuts', 'pad thai'),\n",
       " ('wheat', 'sandwich'),\n",
       " ('shellfish', 'fideos'),\n",
       " ('tree nuts', 'beet hazelnut salad'),\n",
       " ('eggs', 'frittata'),\n",
       " ('milk', 'cheese plate'),\n",
       " ('soy', 'fried tofu')]"
      ]
     },
     "execution_count": 64,
     "metadata": {},
     "output_type": "execute_result"
    }
   ],
   "source": [
    "#Or just:\n",
    "\n",
    "list(zip(allergens, dishes))"
   ]
  },
  {
   "cell_type": "code",
   "execution_count": 18,
   "metadata": {},
   "outputs": [
    {
     "data": {
      "text/plain": [
       "('fish', 'baked cod')"
      ]
     },
     "execution_count": 18,
     "metadata": {},
     "output_type": "execute_result"
    }
   ],
   "source": [
    "#Kind of clunky\n",
    "allergen_examples[0]"
   ]
  },
  {
   "cell_type": "code",
   "execution_count": 19,
   "metadata": {},
   "outputs": [
    {
     "data": {
      "text/plain": [
       "'fish'"
      ]
     },
     "execution_count": 19,
     "metadata": {},
     "output_type": "execute_result"
    }
   ],
   "source": [
    "allergen_examples[0][0]"
   ]
  },
  {
   "cell_type": "code",
   "execution_count": 20,
   "metadata": {},
   "outputs": [
    {
     "data": {
      "text/plain": [
       "{'fish': 'baked cod',\n",
       " 'peanuts': 'pad thai',\n",
       " 'wheat': 'sandwich',\n",
       " 'shellfish': 'fideos',\n",
       " 'tree nuts': 'beet hazelnut salad',\n",
       " 'eggs': 'frittata',\n",
       " 'milk': 'cheese plate',\n",
       " 'soy': 'fried tofu'}"
      ]
     },
     "execution_count": 20,
     "metadata": {},
     "output_type": "execute_result"
    }
   ],
   "source": [
    "#Better: \n",
    "\n",
    "allergen_examples = {}\n",
    "\n",
    "for a, d in zip(allergens, dishes):\n",
    "    allergen_examples[a] = d\n",
    "    \n",
    "allergen_examples"
   ]
  },
  {
   "cell_type": "code",
   "execution_count": 21,
   "metadata": {},
   "outputs": [
    {
     "data": {
      "text/plain": [
       "'baked cod'"
      ]
     },
     "execution_count": 21,
     "metadata": {},
     "output_type": "execute_result"
    }
   ],
   "source": [
    "#Nice\n",
    "allergen_examples['fish']"
   ]
  },
  {
   "cell_type": "markdown",
   "metadata": {},
   "source": [
    "### With a list comprehension:"
   ]
  },
  {
   "cell_type": "code",
   "execution_count": 67,
   "metadata": {},
   "outputs": [
    {
     "data": {
      "text/plain": [
       "['fish', 'peanuts', 'wheat', 'shellfish', 'tree nuts', 'eggs', 'milk', 'soy']"
      ]
     },
     "execution_count": 67,
     "metadata": {},
     "output_type": "execute_result"
    }
   ],
   "source": [
    "allergens"
   ]
  },
  {
   "cell_type": "code",
   "execution_count": 70,
   "metadata": {
    "collapsed": true
   },
   "outputs": [
    {
     "name": "stdout",
     "output_type": "stream",
     "text": [
      "FISH\n",
      "PEANUTS\n",
      "WHEAT\n",
      "SHELLFISH\n",
      "TREE NUTS\n",
      "EGGS\n",
      "MILK\n",
      "SOY\n"
     ]
    }
   ],
   "source": [
    "for a in allergens: #For each thing in some collection of things\n",
    "    print(a.upper()) #Do something"
   ]
  },
  {
   "cell_type": "code",
   "execution_count": 68,
   "metadata": {},
   "outputs": [
    {
     "data": {
      "text/plain": [
       "['FISH', 'PEANUTS', 'WHEAT', 'SHELLFISH', 'TREE NUTS', 'EGGS', 'MILK', 'SOY']"
      ]
     },
     "execution_count": 68,
     "metadata": {},
     "output_type": "execute_result"
    }
   ],
   "source": [
    "[a.upper() for a in allergens] #All the action inside the brackets"
   ]
  },
  {
   "cell_type": "code",
   "execution_count": 71,
   "metadata": {},
   "outputs": [
    {
     "data": {
      "text/plain": [
       "['baked cod has fish',\n",
       " 'pad thai has peanuts',\n",
       " 'sandwich has wheat',\n",
       " 'fideos has shellfish',\n",
       " 'beet hazelnut salad has tree nuts',\n",
       " 'frittata has eggs',\n",
       " 'cheese plate has milk',\n",
       " 'fried tofu has soy']"
      ]
     },
     "execution_count": 71,
     "metadata": {},
     "output_type": "execute_result"
    }
   ],
   "source": [
    "# allergen_examples = []\n",
    "# for a, d in zip(allergens, dishes):\n",
    "#     example_tuple = (a, d)\n",
    "#     allergen_examples.append(example_tuple)\n",
    "\n",
    "allergen_examples = [(d + ' has ' + a) for a, d in zip(allergens, dishes)]\n",
    "allergen_examples"
   ]
  },
  {
   "cell_type": "code",
   "execution_count": 72,
   "metadata": {},
   "outputs": [
    {
     "data": {
      "text/plain": [
       "'baked cod has fish'"
      ]
     },
     "execution_count": 72,
     "metadata": {},
     "output_type": "execute_result"
    }
   ],
   "source": [
    "allergen_examples[0]"
   ]
  },
  {
   "cell_type": "markdown",
   "metadata": {},
   "source": [
    "### With a dictionary comprehension:"
   ]
  },
  {
   "cell_type": "code",
   "execution_count": 11,
   "metadata": {},
   "outputs": [
    {
     "data": {
      "text/plain": [
       "{'fish': 'baked cod',\n",
       " 'peanuts': 'pad thai',\n",
       " 'wheat': 'sandwich',\n",
       " 'shellfish': 'fideos',\n",
       " 'tree nuts': 'beet hazelnut salad',\n",
       " 'eggs': 'frittata',\n",
       " 'milk': 'cheese plate',\n",
       " 'soy': 'fried tofu'}"
      ]
     },
     "execution_count": 11,
     "metadata": {},
     "output_type": "execute_result"
    }
   ],
   "source": [
    "# allergen_examples = {}\n",
    "# for a, d in zip(allergens, dishes):\n",
    "#     allergen_examples[a] = d\n",
    "\n",
    "allergen_examples= {a: d for a, d in zip(allergens, dishes)} #All the action inside the brackets\n",
    "allergen_examples"
   ]
  },
  {
   "cell_type": "code",
   "execution_count": 73,
   "metadata": {},
   "outputs": [
    {
     "data": {
      "text/plain": [
       "{'fish': 'baked cod',\n",
       " 'peanuts': 'pad thai',\n",
       " 'wheat': 'sandwich',\n",
       " 'shellfish': 'fideos',\n",
       " 'tree nuts': 'beet hazelnut salad',\n",
       " 'eggs': 'frittata',\n",
       " 'milk': 'cheese plate',\n",
       " 'soy': 'fried tofu'}"
      ]
     },
     "execution_count": 73,
     "metadata": {},
     "output_type": "execute_result"
    }
   ],
   "source": [
    "allergen_examples = {a: dishes[i] for i, a in enumerate(allergens)}\n",
    "allergen_examples"
   ]
  },
  {
   "cell_type": "markdown",
   "metadata": {},
   "source": [
    "## Why tho ???\n",
    "### Speed of computation"
   ]
  },
  {
   "cell_type": "code",
   "execution_count": null,
   "metadata": {},
   "outputs": [],
   "source": []
  },
  {
   "cell_type": "code",
   "execution_count": null,
   "metadata": {},
   "outputs": [],
   "source": []
  },
  {
   "cell_type": "code",
   "execution_count": null,
   "metadata": {},
   "outputs": [],
   "source": []
  },
  {
   "cell_type": "code",
   "execution_count": null,
   "metadata": {},
   "outputs": [],
   "source": []
  },
  {
   "cell_type": "code",
   "execution_count": null,
   "metadata": {},
   "outputs": [],
   "source": []
  },
  {
   "cell_type": "code",
   "execution_count": null,
   "metadata": {},
   "outputs": [],
   "source": []
  },
  {
   "cell_type": "markdown",
   "metadata": {},
   "source": [
    "## Nesting"
   ]
  },
  {
   "attachments": {
    "nesting.jpg": {
     "image/jpeg": "[encoded data removed]"
    }
   },
   "cell_type": "markdown",
   "metadata": {},
   "source": [
    "![nesting.jpg](attachment:nesting.jpg)\n",
    "\n",
    "## Two counter-intuitive things:\n",
    "1. Smallest to biggest, then descending order\n",
    "2. 'if' at the end; 'if else' at the beginning"
   ]
  },
  {
   "cell_type": "markdown",
   "metadata": {},
   "source": [
    "### A menu for a wedding"
   ]
  },
  {
   "cell_type": "code",
   "execution_count": 75,
   "metadata": {},
   "outputs": [],
   "source": [
    "menu = [\n",
    "            [\n",
    "                [\n",
    "                    'tomato bisque', 'potato leek', 'french onion'\n",
    "                ],\n",
    "                [\n",
    "                    'broccoli cheddar', 'gaspacho', 'minestrone'\n",
    "                ],\n",
    "                [\n",
    "                    'carrot ginger', 'curried sweet potato', 'mulligatawny',\n",
    "                ]\n",
    "            ],\n",
    "            [\n",
    "                [\n",
    "                    'caesar', 'cobb', 'nicoise'\n",
    "                ],\n",
    "                [\n",
    "                    'larb', 'cole slaw', 'watermelon tomato'\n",
    "                ],\n",
    "                [\n",
    "                    'mesclun', 'kale', 'lentil'\n",
    "                ]\n",
    "            ],\n",
    "            [\n",
    "               [\n",
    "                    'steak au poivre', 'grilled chicken', 'salmon with dill'\n",
    "                ],\n",
    "                [\n",
    "                    '', '', ''\n",
    "                ],\n",
    "               [\n",
    "                    'falafel', 'cauliflower steak', 'grilled portobello'\n",
    "                ]\n",
    "            ],\n",
    "            [\n",
    "                [\n",
    "                    'mashed potatoes', 'fried brussels sprouts', 'garlic bread'\n",
    "                ],\n",
    "                [\n",
    "                    'grilled asparagus', 'roasted tomatoes', 'green beans amandine'\n",
    "                ],\n",
    "                [\n",
    "                    'boiled new potatoes', 'curried cauliflower', 'farro salad'\n",
    "                ]\n",
    "            ],\n",
    "            [\n",
    "                [\n",
    "                    'black forest cake', 'lemon bars', 'choux puffs'\n",
    "                ],\n",
    "                [\n",
    "                    'flourless chocolate cake', 'parfaits', 'macarons'\n",
    "                ],\n",
    "                [\n",
    "                    'sweet potato cake', 'peanut butter cookies', 'fruit salad'\n",
    "                ]\n",
    "            ],\n",
    "        ]"
   ]
  },
  {
   "cell_type": "code",
   "execution_count": 76,
   "metadata": {
    "collapsed": true
   },
   "outputs": [
    {
     "data": {
      "text/plain": [
       "[[['tomato bisque', 'potato leek', 'french onion'],\n",
       "  ['broccoli cheddar', 'gaspacho', 'minestrone'],\n",
       "  ['carrot ginger', 'curried sweet potato', 'mulligatawny']],\n",
       " [['caesar', 'cobb', 'nicoise'],\n",
       "  ['larb', 'cole slaw', 'watermelon tomato'],\n",
       "  ['mesclun', 'kale', 'lentil']],\n",
       " [['steak au poivre', 'grilled chicken', 'salmon with dill'],\n",
       "  ['', '', ''],\n",
       "  ['falafel', 'cauliflower steak', 'grilled portobello']],\n",
       " [['mashed potatoes', 'fried brussels sprouts', 'garlic bread'],\n",
       "  ['grilled asparagus', 'roasted tomatoes', 'green beans amandine'],\n",
       "  ['boiled new potatoes', 'curried cauliflower', 'farro salad']],\n",
       " [['black forest cake', 'lemon bars', 'choux puffs'],\n",
       "  ['flourless chocolate cake', 'parfaits', 'macarons'],\n",
       "  ['sweet potato cake', 'peanut butter cookies', 'fruit salad']]]"
      ]
     },
     "execution_count": 76,
     "metadata": {},
     "output_type": "execute_result"
    }
   ],
   "source": [
    "menu"
   ]
  },
  {
   "cell_type": "code",
   "execution_count": 77,
   "metadata": {},
   "outputs": [],
   "source": [
    "courses = ['soup', 'salad', 'main', 'sides', 'dessert']"
   ]
  },
  {
   "cell_type": "code",
   "execution_count": 78,
   "metadata": {},
   "outputs": [],
   "source": [
    "styles = ['classic', 'gluten free', 'vegan']"
   ]
  },
  {
   "cell_type": "markdown",
   "metadata": {},
   "source": [
    "### Flatten the nested structure"
   ]
  },
  {
   "cell_type": "code",
   "execution_count": 79,
   "metadata": {
    "collapsed": true
   },
   "outputs": [
    {
     "data": {
      "text/plain": [
       "[[['tomato bisque', 'potato leek', 'french onion'],\n",
       "  ['broccoli cheddar', 'gaspacho', 'minestrone'],\n",
       "  ['carrot ginger', 'curried sweet potato', 'mulligatawny']],\n",
       " [['caesar', 'cobb', 'nicoise'],\n",
       "  ['larb', 'cole slaw', 'watermelon tomato'],\n",
       "  ['mesclun', 'kale', 'lentil']],\n",
       " [['steak au poivre', 'grilled chicken', 'salmon with dill'],\n",
       "  ['', '', ''],\n",
       "  ['falafel', 'cauliflower steak', 'grilled portobello']],\n",
       " [['mashed potatoes', 'fried brussels sprouts', 'garlic bread'],\n",
       "  ['grilled asparagus', 'roasted tomatoes', 'green beans amandine'],\n",
       "  ['boiled new potatoes', 'curried cauliflower', 'farro salad']],\n",
       " [['black forest cake', 'lemon bars', 'choux puffs'],\n",
       "  ['flourless chocolate cake', 'parfaits', 'macarons'],\n",
       "  ['sweet potato cake', 'peanut butter cookies', 'fruit salad']]]"
      ]
     },
     "execution_count": 79,
     "metadata": {},
     "output_type": "execute_result"
    }
   ],
   "source": [
    "#Big for big in list\n",
    "[course for course in menu]"
   ]
  },
  {
   "cell_type": "code",
   "execution_count": 80,
   "metadata": {
    "collapsed": true
   },
   "outputs": [
    {
     "data": {
      "text/plain": [
       "[['tomato bisque', 'potato leek', 'french onion'],\n",
       " ['broccoli cheddar', 'gaspacho', 'minestrone'],\n",
       " ['carrot ginger', 'curried sweet potato', 'mulligatawny'],\n",
       " ['caesar', 'cobb', 'nicoise'],\n",
       " ['larb', 'cole slaw', 'watermelon tomato'],\n",
       " ['mesclun', 'kale', 'lentil'],\n",
       " ['steak au poivre', 'grilled chicken', 'salmon with dill'],\n",
       " ['', '', ''],\n",
       " ['falafel', 'cauliflower steak', 'grilled portobello'],\n",
       " ['mashed potatoes', 'fried brussels sprouts', 'garlic bread'],\n",
       " ['grilled asparagus', 'roasted tomatoes', 'green beans amandine'],\n",
       " ['boiled new potatoes', 'curried cauliflower', 'farro salad'],\n",
       " ['black forest cake', 'lemon bars', 'choux puffs'],\n",
       " ['flourless chocolate cake', 'parfaits', 'macarons'],\n",
       " ['sweet potato cake', 'peanut butter cookies', 'fruit salad']]"
      ]
     },
     "execution_count": 80,
     "metadata": {},
     "output_type": "execute_result"
    }
   ],
   "source": [
    "#Medium for big in LIST for medium in big\n",
    "[style for course in menu for style in course]"
   ]
  },
  {
   "cell_type": "code",
   "execution_count": 91,
   "metadata": {
    "collapsed": true
   },
   "outputs": [
    {
     "data": {
      "text/plain": [
       "['tomato bisque',\n",
       " 'potato leek',\n",
       " 'french onion',\n",
       " 'broccoli cheddar',\n",
       " 'gaspacho',\n",
       " 'minestrone',\n",
       " 'carrot ginger',\n",
       " 'curried sweet potato',\n",
       " 'mulligatawny',\n",
       " 'caesar',\n",
       " 'cobb',\n",
       " 'nicoise',\n",
       " 'larb',\n",
       " 'cole slaw',\n",
       " 'watermelon tomato',\n",
       " 'mesclun',\n",
       " 'kale',\n",
       " 'lentil',\n",
       " 'steak au poivre',\n",
       " 'grilled chicken',\n",
       " 'salmon with dill',\n",
       " '',\n",
       " '',\n",
       " '',\n",
       " 'falafel',\n",
       " 'cauliflower steak',\n",
       " 'grilled portobello',\n",
       " 'mashed potatoes',\n",
       " 'fried brussels sprouts',\n",
       " 'garlic bread',\n",
       " 'grilled asparagus',\n",
       " 'roasted tomatoes',\n",
       " 'green beans amandine',\n",
       " 'boiled new potatoes',\n",
       " 'curried cauliflower',\n",
       " 'farro salad',\n",
       " 'black forest cake',\n",
       " 'lemon bars',\n",
       " 'choux puffs',\n",
       " 'flourless chocolate cake',\n",
       " 'parfaits',\n",
       " 'macarons',\n",
       " 'sweet potato cake',\n",
       " 'peanut butter cookies',\n",
       " 'fruit salad']"
      ]
     },
     "execution_count": 91,
     "metadata": {},
     "output_type": "execute_result"
    }
   ],
   "source": [
    "#Small for big in LIST for medium in big for small in medium\n",
    "[food for course in menu for style in course for food in style]"
   ]
  },
  {
   "cell_type": "code",
   "execution_count": 82,
   "metadata": {
    "collapsed": true
   },
   "outputs": [
    {
     "data": {
      "text/plain": [
       "['tomato bisque',\n",
       " 'potato leek',\n",
       " 'french onion',\n",
       " 'broccoli cheddar',\n",
       " 'gaspacho',\n",
       " 'minestrone',\n",
       " 'carrot ginger',\n",
       " 'curried sweet potato',\n",
       " 'mulligatawny',\n",
       " 'caesar',\n",
       " 'cobb',\n",
       " 'nicoise',\n",
       " 'larb',\n",
       " 'cole slaw',\n",
       " 'watermelon tomato',\n",
       " 'mesclun',\n",
       " 'kale',\n",
       " 'lentil',\n",
       " 'steak au poivre',\n",
       " 'grilled chicken',\n",
       " 'salmon with dill',\n",
       " 'falafel',\n",
       " 'cauliflower steak',\n",
       " 'grilled portobello',\n",
       " 'mashed potatoes',\n",
       " 'fried brussels sprouts',\n",
       " 'garlic bread',\n",
       " 'grilled asparagus',\n",
       " 'roasted tomatoes',\n",
       " 'green beans amandine',\n",
       " 'boiled new potatoes',\n",
       " 'curried cauliflower',\n",
       " 'farro salad',\n",
       " 'black forest cake',\n",
       " 'lemon bars',\n",
       " 'choux puffs',\n",
       " 'flourless chocolate cake',\n",
       " 'parfaits',\n",
       " 'macarons',\n",
       " 'sweet potato cake',\n",
       " 'peanut butter cookies',\n",
       " 'fruit salad']"
      ]
     },
     "execution_count": 82,
     "metadata": {},
     "output_type": "execute_result"
    }
   ],
   "source": [
    "#With if statement (must be at the end)\n",
    "[food for course in menu for style in course for food in style if food]"
   ]
  },
  {
   "cell_type": "code",
   "execution_count": 83,
   "metadata": {
    "collapsed": true
   },
   "outputs": [
    {
     "data": {
      "text/plain": [
       "['tomato bisque',\n",
       " 'potato leek',\n",
       " 'french onion',\n",
       " 'broccoli cheddar',\n",
       " 'gaspacho',\n",
       " 'minestrone',\n",
       " 'carrot ginger',\n",
       " 'curried sweet potato',\n",
       " 'mulligatawny',\n",
       " 'caesar',\n",
       " 'cobb',\n",
       " 'nicoise',\n",
       " 'larb',\n",
       " 'cole slaw',\n",
       " 'watermelon tomato',\n",
       " 'mesclun',\n",
       " 'kale',\n",
       " 'lentil',\n",
       " 'steak au poivre',\n",
       " 'grilled chicken',\n",
       " 'salmon with dill',\n",
       " 'Not available',\n",
       " 'Not available',\n",
       " 'Not available',\n",
       " 'falafel',\n",
       " 'cauliflower steak',\n",
       " 'grilled portobello',\n",
       " 'mashed potatoes',\n",
       " 'fried brussels sprouts',\n",
       " 'garlic bread',\n",
       " 'grilled asparagus',\n",
       " 'roasted tomatoes',\n",
       " 'green beans amandine',\n",
       " 'boiled new potatoes',\n",
       " 'curried cauliflower',\n",
       " 'farro salad',\n",
       " 'black forest cake',\n",
       " 'lemon bars',\n",
       " 'choux puffs',\n",
       " 'flourless chocolate cake',\n",
       " 'parfaits',\n",
       " 'macarons',\n",
       " 'sweet potato cake',\n",
       " 'peanut butter cookies',\n",
       " 'fruit salad']"
      ]
     },
     "execution_count": 83,
     "metadata": {},
     "output_type": "execute_result"
    }
   ],
   "source": [
    "#With if/else statement (must be at the beginning)\n",
    "[food if food else 'Not available' for course in menu for style in course for food in style]"
   ]
  },
  {
   "cell_type": "markdown",
   "metadata": {},
   "source": [
    "### Need a nested dictionary with courses and styles"
   ]
  },
  {
   "cell_type": "code",
   "execution_count": 89,
   "metadata": {},
   "outputs": [
    {
     "data": {
      "text/plain": [
       "['soup', 'salad', 'main', 'sides', 'dessert']"
      ]
     },
     "execution_count": 89,
     "metadata": {},
     "output_type": "execute_result"
    }
   ],
   "source": [
    "#Biggest:\n",
    "courses"
   ]
  },
  {
   "cell_type": "code",
   "execution_count": 90,
   "metadata": {},
   "outputs": [
    {
     "data": {
      "text/plain": [
       "['classic', 'gluten free', 'vegan']"
      ]
     },
     "execution_count": 90,
     "metadata": {},
     "output_type": "execute_result"
    }
   ],
   "source": [
    "#Medium:\n",
    "styles"
   ]
  },
  {
   "cell_type": "code",
   "execution_count": 97,
   "metadata": {},
   "outputs": [
    {
     "data": {
      "text/plain": [
       "{'soup': {}, 'salad': {}, 'main': {}, 'sides': {}, 'dessert': {}}"
      ]
     },
     "execution_count": 97,
     "metadata": {},
     "output_type": "execute_result"
    }
   ],
   "source": [
    "{course: {} for i, course in enumerate(courses)}"
   ]
  },
  {
   "cell_type": "code",
   "execution_count": 98,
   "metadata": {},
   "outputs": [
    {
     "data": {
      "text/plain": [
       "{'soup': {'classic': (), 'gluten free': (), 'vegan': ()},\n",
       " 'salad': {'classic': (), 'gluten free': (), 'vegan': ()},\n",
       " 'main': {'classic': (), 'gluten free': (), 'vegan': ()},\n",
       " 'sides': {'classic': (), 'gluten free': (), 'vegan': ()},\n",
       " 'dessert': {'classic': (), 'gluten free': (), 'vegan': ()}}"
      ]
     },
     "execution_count": 98,
     "metadata": {},
     "output_type": "execute_result"
    }
   ],
   "source": [
    "{course: {style: () for j, style in enumerate(styles)} for i, course in enumerate(courses)}"
   ]
  },
  {
   "cell_type": "markdown",
   "metadata": {},
   "source": [
    "#### Using the indices"
   ]
  },
  {
   "cell_type": "code",
   "execution_count": 95,
   "metadata": {},
   "outputs": [
    {
     "data": {
      "text/plain": [
       "{'soup': {'classic': (0, 0), 'gluten free': (0, 1), 'vegan': (0, 2)},\n",
       " 'salad': {'classic': (1, 0), 'gluten free': (1, 1), 'vegan': (1, 2)},\n",
       " 'main': {'classic': (2, 0), 'gluten free': (2, 1), 'vegan': (2, 2)},\n",
       " 'sides': {'classic': (3, 0), 'gluten free': (3, 1), 'vegan': (3, 2)},\n",
       " 'dessert': {'classic': (4, 0), 'gluten free': (4, 1), 'vegan': (4, 2)}}"
      ]
     },
     "execution_count": 95,
     "metadata": {},
     "output_type": "execute_result"
    }
   ],
   "source": [
    "{course: {style: (i,j) for j, style in enumerate(styles)} for i, course in enumerate(courses)}"
   ]
  },
  {
   "cell_type": "code",
   "execution_count": 105,
   "metadata": {
    "collapsed": true
   },
   "outputs": [
    {
     "data": {
      "text/plain": [
       "[[['tomato bisque', 'potato leek', 'french onion'],\n",
       "  ['broccoli cheddar', 'gaspacho', 'minestrone'],\n",
       "  ['carrot ginger', 'curried sweet potato', 'mulligatawny']],\n",
       " [['caesar', 'cobb', 'nicoise'],\n",
       "  ['larb', 'cole slaw', 'watermelon tomato'],\n",
       "  ['mesclun', 'kale', 'lentil']],\n",
       " [['steak au poivre', 'grilled chicken', 'salmon with dill'],\n",
       "  ['', '', ''],\n",
       "  ['falafel', 'cauliflower steak', 'grilled portobello']],\n",
       " [['mashed potatoes', 'fried brussels sprouts', 'garlic bread'],\n",
       "  ['grilled asparagus', 'roasted tomatoes', 'green beans amandine'],\n",
       "  ['boiled new potatoes', 'curried cauliflower', 'farro salad']],\n",
       " [['black forest cake', 'lemon bars', 'choux puffs'],\n",
       "  ['flourless chocolate cake', 'parfaits', 'macarons'],\n",
       "  ['sweet potato cake', 'peanut butter cookies', 'fruit salad']]]"
      ]
     },
     "execution_count": 105,
     "metadata": {},
     "output_type": "execute_result"
    }
   ],
   "source": [
    "#Our original menu\n",
    "menu"
   ]
  },
  {
   "cell_type": "code",
   "execution_count": 103,
   "metadata": {},
   "outputs": [
    {
     "data": {
      "text/plain": [
       "['carrot ginger', 'curried sweet potato', 'mulligatawny']"
      ]
     },
     "execution_count": 103,
     "metadata": {},
     "output_type": "execute_result"
    }
   ],
   "source": [
    "#Using these indices to find foods on our menu\n",
    "menu[0][2]"
   ]
  },
  {
   "cell_type": "markdown",
   "metadata": {},
   "source": [
    "#### Putting it all together"
   ]
  },
  {
   "cell_type": "code",
   "execution_count": 84,
   "metadata": {
    "collapsed": true
   },
   "outputs": [
    {
     "data": {
      "text/plain": [
       "{'soup': {'classic': ['tomato bisque', 'potato leek', 'french onion'],\n",
       "  'gluten free': ['broccoli cheddar', 'gaspacho', 'minestrone'],\n",
       "  'vegan': ['carrot ginger', 'curried sweet potato', 'mulligatawny']},\n",
       " 'salad': {'classic': ['caesar', 'cobb', 'nicoise'],\n",
       "  'gluten free': ['larb', 'cole slaw', 'watermelon tomato'],\n",
       "  'vegan': ['mesclun', 'kale', 'lentil']},\n",
       " 'main': {'classic': ['steak au poivre',\n",
       "   'grilled chicken',\n",
       "   'salmon with dill'],\n",
       "  'gluten free': ['', '', ''],\n",
       "  'vegan': ['falafel', 'cauliflower steak', 'grilled portobello']},\n",
       " 'sides': {'classic': ['mashed potatoes',\n",
       "   'fried brussels sprouts',\n",
       "   'garlic bread'],\n",
       "  'gluten free': ['grilled asparagus',\n",
       "   'roasted tomatoes',\n",
       "   'green beans amandine'],\n",
       "  'vegan': ['boiled new potatoes', 'curried cauliflower', 'farro salad']},\n",
       " 'dessert': {'classic': ['black forest cake', 'lemon bars', 'choux puffs'],\n",
       "  'gluten free': ['flourless chocolate cake', 'parfaits', 'macarons'],\n",
       "  'vegan': ['sweet potato cake', 'peanut butter cookies', 'fruit salad']}}"
      ]
     },
     "execution_count": 84,
     "metadata": {},
     "output_type": "execute_result"
    }
   ],
   "source": [
    "{course: {style: [food for food in menu[i][j]] for j, style in enumerate(styles)} for i, course in enumerate(courses)}"
   ]
  },
  {
   "cell_type": "code",
   "execution_count": null,
   "metadata": {},
   "outputs": [],
   "source": []
  },
  {
   "cell_type": "code",
   "execution_count": null,
   "metadata": {},
   "outputs": [],
   "source": []
  },
  {
   "cell_type": "code",
   "execution_count": null,
   "metadata": {},
   "outputs": [],
   "source": []
  },
  {
   "cell_type": "code",
   "execution_count": null,
   "metadata": {},
   "outputs": [],
   "source": []
  },
  {
   "cell_type": "code",
   "execution_count": null,
   "metadata": {},
   "outputs": [],
   "source": []
  },
  {
   "cell_type": "code",
   "execution_count": null,
   "metadata": {},
   "outputs": [],
   "source": []
  },
  {
   "cell_type": "code",
   "execution_count": 106,
   "metadata": {},
   "outputs": [],
   "source": [
    "menu = {\n",
    "        'soup': {\n",
    "                    'classic': [\n",
    "                                'tomato bisque', 'potato leek', 'french onion'\n",
    "                                ],\n",
    "                    'gluten_free': [\n",
    "                                'broccoli cheddar', 'gaspacho', 'minestrone'\n",
    "                                ],\n",
    "                    'vegan': [\n",
    "                                'carrot ginger', 'curried sweet potato', 'mulligatawny',\n",
    "                                ]\n",
    "                },\n",
    "        'salad': {\n",
    "                    'classic': [\n",
    "                                'caesar', 'cobb', 'nicoise'\n",
    "                                ],\n",
    "                    'gluten_free': [\n",
    "                                'larb', 'cole slaw', 'watermelon tomato'\n",
    "                                ],\n",
    "                    'vegan': [\n",
    "                                'mesclun', 'kale', 'lentil'\n",
    "                                ]\n",
    "                },\n",
    "        'proteins': {\n",
    "                    'classic': [\n",
    "                                'steak au poivre', 'grilled chicken', 'salmon with dill'\n",
    "                                ],\n",
    "                    'gluten_free': [\n",
    "                                '', '', ''\n",
    "                                ],\n",
    "                    'vegan': [\n",
    "                                'falafel', 'cauliflower steak', 'grilled portobello'\n",
    "                                ]\n",
    "                },\n",
    "        'sides': {\n",
    "                    'classic': [\n",
    "                                'mashed potatoes', 'fried brussels sprouts', 'garlic bread'\n",
    "                                ],\n",
    "                    'gluten_free': [\n",
    "                                 'grilled asparagus', 'roasted tomatoes', 'green beans amandine'\n",
    "                                ],\n",
    "                    'vegan': ['boiled new potatoes', 'curried cauliflower', 'farro salad']\n",
    "                },\n",
    "        'pastry': {\n",
    "                    'classic': [\n",
    "                                'black forest cake', 'lemon bars', 'choux puffs'\n",
    "                                ],\n",
    "                    'gluten_free': [\n",
    "                                'flourless chocolate cake', 'parfaits', 'macarons'\n",
    "                                ],\n",
    "                    'vegan': [\n",
    "                                'sweet potato cake', 'peanut butter cookies', 'fruit salad'\n",
    "                                \n",
    "                    ]\n",
    "                },\n",
    "}"
   ]
  },
  {
   "cell_type": "code",
   "execution_count": 6,
   "metadata": {},
   "outputs": [
    {
     "data": {
      "text/plain": [
       "{'soup': {'classic': ['tomato bisque', 'potato leek', 'french onion'],\n",
       "  'gluten_free': ['broccoli cheddar', 'gaspacho', 'pho'],\n",
       "  'vegan': ['carrot ginger', 'curried sweet potato', 'mulligatawny']},\n",
       " 'salad': {'classic': ['caesar', 'cobb', 'nicoise'],\n",
       "  'gluten_free': ['larb', 'cole slaw', 'watermelon tomato'],\n",
       "  'vegan': ['mesclun', 'kale', 'lentil']},\n",
       " 'proteins': {'classic': ['steak au poivre',\n",
       "   'grilled chicken',\n",
       "   'salmon with dill'],\n",
       "  'gluten_free': ['', '', ''],\n",
       "  'vegan': ['falafel', 'cauliflower steak', 'grilled portobello']},\n",
       " 'sides': {'classic': ['mashed potatoes', 'fried brussels sprouts'],\n",
       "  'gluten_free': ['grilled asparagus'],\n",
       "  'vegan': ['boiled new potatoes', '', '']},\n",
       " 'pastry': {'classic': [], 'gluten_free': [], 'vegan': []}}"
      ]
     },
     "execution_count": 6,
     "metadata": {},
     "output_type": "execute_result"
    }
   ],
   "source": [
    "menu"
   ]
  },
  {
   "cell_type": "code",
   "execution_count": 38,
   "metadata": {},
   "outputs": [
    {
     "name": "stdout",
     "output_type": "stream",
     "text": [
      "SOUP\n",
      "classic:\n",
      "tomato bisque\n",
      "potato leek\n",
      "french onion\n",
      "\n",
      "\n",
      "gluten_free:\n",
      "broccoli cheddar\n",
      "gaspacho\n",
      "minestrone\n",
      "\n",
      "\n",
      "vegan:\n",
      "carrot ginger\n",
      "curried sweet potato\n",
      "mulligatawny\n",
      "\n",
      "\n",
      "\n",
      "\n",
      "SALAD\n",
      "classic:\n",
      "caesar\n",
      "cobb\n",
      "nicoise\n",
      "\n",
      "\n",
      "gluten_free:\n",
      "larb\n",
      "cole slaw\n",
      "watermelon tomato\n",
      "\n",
      "\n",
      "vegan:\n",
      "mesclun\n",
      "kale\n",
      "lentil\n",
      "\n",
      "\n",
      "\n",
      "\n",
      "PROTEINS\n",
      "classic:\n",
      "steak au poivre\n",
      "grilled chicken\n",
      "salmon with dill\n",
      "\n",
      "\n",
      "gluten_free:\n",
      "\n",
      "\n",
      "\n",
      "\n",
      "\n",
      "vegan:\n",
      "falafel\n",
      "cauliflower steak\n",
      "grilled portobello\n",
      "\n",
      "\n",
      "\n",
      "\n",
      "SIDES\n",
      "classic:\n",
      "mashed potatoes\n",
      "fried brussels sprouts\n",
      "garlic bread\n",
      "\n",
      "\n",
      "gluten_free:\n",
      "grilled asparagus\n",
      "roasted tomatoes\n",
      "green beans amandine\n",
      "\n",
      "\n",
      "vegan:\n",
      "boiled new potatoes\n",
      "curried cauliflower\n",
      "farro salad\n",
      "\n",
      "\n",
      "\n",
      "\n",
      "PASTRY\n",
      "classic:\n",
      "black forest cake\n",
      "lemon bars\n",
      "choux puffs\n",
      "\n",
      "\n",
      "gluten_free:\n",
      "flourless chocolate cake\n",
      "parfaits\n",
      "macarons\n",
      "\n",
      "\n",
      "vegan:\n",
      "sweet potato cake\n",
      "peanut butter cookies\n",
      "fruit salad\n",
      "\n",
      "\n",
      "\n",
      "\n"
     ]
    }
   ],
   "source": [
    "for course, c_options in menu.items():\n",
    "    print(course.upper())\n",
    "    for style, s_options in c_options.items():\n",
    "        print(f'{style}:')\n",
    "        for food in s_options:\n",
    "            print(food)\n",
    "        print('\\n')\n",
    "    print('\\n')"
   ]
  },
  {
   "cell_type": "markdown",
   "metadata": {},
   "source": [
    "### Need a list of all the food options"
   ]
  },
  {
   "cell_type": "code",
   "execution_count": 41,
   "metadata": {
    "collapsed": true
   },
   "outputs": [
    {
     "data": {
      "text/plain": [
       "['tomato bisque',\n",
       " 'potato leek',\n",
       " 'french onion',\n",
       " 'broccoli cheddar',\n",
       " 'gaspacho',\n",
       " 'minestrone',\n",
       " 'carrot ginger',\n",
       " 'curried sweet potato',\n",
       " 'mulligatawny',\n",
       " 'caesar',\n",
       " 'cobb',\n",
       " 'nicoise',\n",
       " 'larb',\n",
       " 'cole slaw',\n",
       " 'watermelon tomato',\n",
       " 'mesclun',\n",
       " 'kale',\n",
       " 'lentil',\n",
       " 'steak au poivre',\n",
       " 'grilled chicken',\n",
       " 'salmon with dill',\n",
       " '',\n",
       " '',\n",
       " '',\n",
       " 'falafel',\n",
       " 'cauliflower steak',\n",
       " 'grilled portobello',\n",
       " 'mashed potatoes',\n",
       " 'fried brussels sprouts',\n",
       " 'garlic bread',\n",
       " 'grilled asparagus',\n",
       " 'roasted tomatoes',\n",
       " 'green beans amandine',\n",
       " 'boiled new potatoes',\n",
       " 'curried cauliflower',\n",
       " 'farro salad',\n",
       " 'black forest cake',\n",
       " 'lemon bars',\n",
       " 'choux puffs',\n",
       " 'flourless chocolate cake',\n",
       " 'parfaits',\n",
       " 'macarons',\n",
       " 'sweet potato cake',\n",
       " 'peanut butter cookies',\n",
       " 'fruit salad']"
      ]
     },
     "execution_count": 41,
     "metadata": {},
     "output_type": "execute_result"
    }
   ],
   "source": [
    "food_options = []\n",
    "for course, c_options in menu.items():\n",
    "    for style, s_options in c_options.items():\n",
    "        for food in s_options:\n",
    "           # if food:\n",
    "            food_options.append(food)\n",
    "\n",
    "food_options"
   ]
  },
  {
   "cell_type": "code",
   "execution_count": 28,
   "metadata": {},
   "outputs": [
    {
     "data": {
      "text/plain": [
       "['soup', 'salad', 'proteins', 'sides', 'pastry']"
      ]
     },
     "execution_count": 28,
     "metadata": {},
     "output_type": "execute_result"
    }
   ],
   "source": [
    "[c for c, c_options in menu.items()]"
   ]
  },
  {
   "cell_type": "code",
   "execution_count": 42,
   "metadata": {
    "collapsed": true
   },
   "outputs": [
    {
     "data": {
      "text/plain": [
       "['classic',\n",
       " 'gluten_free',\n",
       " 'vegan',\n",
       " 'classic',\n",
       " 'gluten_free',\n",
       " 'vegan',\n",
       " 'classic',\n",
       " 'gluten_free',\n",
       " 'vegan',\n",
       " 'classic',\n",
       " 'gluten_free',\n",
       " 'vegan',\n",
       " 'classic',\n",
       " 'gluten_free',\n",
       " 'vegan']"
      ]
     },
     "execution_count": 42,
     "metadata": {},
     "output_type": "execute_result"
    }
   ],
   "source": [
    "[s for c, c_options in menu.items() for s, s_options in c_options.items()]"
   ]
  },
  {
   "cell_type": "code",
   "execution_count": 74,
   "metadata": {},
   "outputs": [
    {
     "data": {
      "text/plain": [
       "['tomato bisque',\n",
       " 'potato leek',\n",
       " 'french onion',\n",
       " 'broccoli cheddar',\n",
       " 'gaspacho',\n",
       " 'minestrone',\n",
       " 'carrot ginger',\n",
       " 'curried sweet potato',\n",
       " 'mulligatawny',\n",
       " 'caesar',\n",
       " 'cobb',\n",
       " 'nicoise',\n",
       " 'larb',\n",
       " 'cole slaw',\n",
       " 'watermelon tomato',\n",
       " 'mesclun',\n",
       " 'kale',\n",
       " 'lentil',\n",
       " 'steak au poivre',\n",
       " 'grilled chicken',\n",
       " 'salmon with dill',\n",
       " 'falafel',\n",
       " 'cauliflower steak',\n",
       " 'grilled portobello',\n",
       " 'mashed potatoes',\n",
       " 'fried brussels sprouts',\n",
       " 'garlic bread',\n",
       " 'grilled asparagus',\n",
       " 'roasted tomatoes',\n",
       " 'green beans amandine',\n",
       " 'boiled new potatoes',\n",
       " 'curried cauliflower',\n",
       " 'farro salad',\n",
       " 'black forest cake',\n",
       " 'lemon bars',\n",
       " 'choux puffs',\n",
       " 'flourless chocolate cake',\n",
       " 'parfaits',\n",
       " 'macarons',\n",
       " 'sweet potato cake',\n",
       " 'peanut butter cookies',\n",
       " 'fruit salad']"
      ]
     },
     "execution_count": 74,
     "metadata": {},
     "output_type": "execute_result"
    }
   ],
   "source": [
    "#COURSE: options > style: options > food options\n",
    "#smallest for 2nd-biggest in biggest #for 3rd-biggest in 2nd-biggest #for smallest in 3rd-biggest\n",
    "#if something\n",
    "[f for c, c_options in menu.items() for s, s_options in c_options.items() for f in s_options if f]                                                             "
   ]
  },
  {
   "cell_type": "markdown",
   "metadata": {},
   "source": [
    "### Need all the gluten free options "
   ]
  },
  {
   "cell_type": "code",
   "execution_count": 52,
   "metadata": {},
   "outputs": [],
   "source": [
    "gluten_free_options = {c: [] for c, c_options in menu.items()}"
   ]
  },
  {
   "cell_type": "code",
   "execution_count": 53,
   "metadata": {},
   "outputs": [
    {
     "data": {
      "text/plain": [
       "{'soup': [], 'salad': [], 'proteins': [], 'sides': [], 'pastry': []}"
      ]
     },
     "execution_count": 53,
     "metadata": {},
     "output_type": "execute_result"
    }
   ],
   "source": [
    "gluten_free_options"
   ]
  },
  {
   "cell_type": "code",
   "execution_count": 58,
   "metadata": {},
   "outputs": [
    {
     "data": {
      "text/plain": [
       "{'soup': ['carrot ginger', 'curried sweet potato', 'mulligatawny'],\n",
       " 'salad': ['mesclun', 'kale', 'lentil'],\n",
       " 'proteins': ['falafel', 'cauliflower steak', 'grilled portobello'],\n",
       " 'sides': ['boiled new potatoes', 'curried cauliflower', 'farro salad'],\n",
       " 'pastry': ['sweet potato cake', 'peanut butter cookies', 'fruit salad']}"
      ]
     },
     "execution_count": 58,
     "metadata": {},
     "output_type": "execute_result"
    }
   ],
   "source": [
    "#Wrong\n",
    "gluten_free_options = {c: [f for f in s_options] for c, c_options in menu.items() for s, s_options in c_options.items()}\n",
    "gluten_free_options"
   ]
  },
  {
   "cell_type": "code",
   "execution_count": 55,
   "metadata": {},
   "outputs": [],
   "source": [
    "gluten_free_options = {c: [f for f in s_options] for c, c_options in menu.items() for s, s_options in c_options.items() if s == 'gluten_free'}"
   ]
  },
  {
   "cell_type": "code",
   "execution_count": 56,
   "metadata": {},
   "outputs": [
    {
     "data": {
      "text/plain": [
       "{'soup': ['broccoli cheddar', 'gaspacho', 'minestrone'],\n",
       " 'salad': ['larb', 'cole slaw', 'watermelon tomato'],\n",
       " 'proteins': ['', '', ''],\n",
       " 'sides': ['grilled asparagus', 'roasted tomatoes', 'green beans amandine'],\n",
       " 'pastry': ['flourless chocolate cake', 'parfaits', 'macarons']}"
      ]
     },
     "execution_count": 56,
     "metadata": {},
     "output_type": "execute_result"
    }
   ],
   "source": [
    "#Correct\n",
    "gluten_free_options"
   ]
  },
  {
   "cell_type": "code",
   "execution_count": null,
   "metadata": {},
   "outputs": [],
   "source": []
  },
  {
   "cell_type": "code",
   "execution_count": null,
   "metadata": {},
   "outputs": [],
   "source": []
  },
  {
   "cell_type": "code",
   "execution_count": 1,
   "metadata": {},
   "outputs": [],
   "source": [
    "import numpy as np"
   ]
  },
  {
   "cell_type": "code",
   "execution_count": 8,
   "metadata": {},
   "outputs": [],
   "source": [
    "thousand = np.arange(1000)"
   ]
  },
  {
   "cell_type": "code",
   "execution_count": 10,
   "metadata": {},
   "outputs": [
    {
     "name": "stdout",
     "output_type": "stream",
     "text": [
      "CPU times: user 3 µs, sys: 1e+03 ns, total: 4 µs\n",
      "Wall time: 6.91 µs\n"
     ]
    }
   ],
   "source": [
    "%time\n",
    "thousand_and_one = []\n",
    "for i in thousand:\n",
    "    thousand_and_one.append(i + 1)"
   ]
  },
  {
   "cell_type": "code",
   "execution_count": 14,
   "metadata": {},
   "outputs": [
    {
     "name": "stdout",
     "output_type": "stream",
     "text": [
      "CPU times: user 2 µs, sys: 0 ns, total: 2 µs\n",
      "Wall time: 5.96 µs\n"
     ]
    }
   ],
   "source": [
    "%time\n",
    "billion = np.arange(1000000000)"
   ]
  },
  {
   "cell_type": "code",
   "execution_count": 17,
   "metadata": {},
   "outputs": [],
   "source": [
    "def add_to_billion(billion):\n",
    "    billion_and_one = []\n",
    "    for i in billion:\n",
    "        billion_and_one.append(i + 1)\n",
    "    return billion_and_one"
   ]
  },
  {
   "cell_type": "code",
   "execution_count": 19,
   "metadata": {},
   "outputs": [
    {
     "name": "stdout",
     "output_type": "stream",
     "text": [
      "385.1903643608093\n"
     ]
    }
   ],
   "source": [
    "import time\n",
    "start = time.time()\n",
    "billion_and_one = add_to_billion(billion)\n",
    "end = time.time()\n",
    "print((end - start) / 60)"
   ]
  },
  {
   "cell_type": "code",
   "execution_count": 20,
   "metadata": {},
   "outputs": [
    {
     "data": {
      "text/plain": [
       "6.419839406013489"
      ]
     },
     "execution_count": 20,
     "metadata": {},
     "output_type": "execute_result"
    }
   ],
   "source": [
    "(end - start) / 60"
   ]
  },
  {
   "cell_type": "code",
   "execution_count": 21,
   "metadata": {},
   "outputs": [
    {
     "name": "stdout",
     "output_type": "stream",
     "text": [
      "5.630552645524343\n"
     ]
    }
   ],
   "source": [
    "start = time.time()\n",
    "billion_and_one = [i + 1 for i in billion]\n",
    "end = time.time()\n",
    "print((end - start) / 60)"
   ]
  },
  {
   "cell_type": "code",
   "execution_count": 22,
   "metadata": {},
   "outputs": [
    {
     "name": "stdout",
     "output_type": "stream",
     "text": [
      "1.640518565972646\n"
     ]
    }
   ],
   "source": [
    "start = time.time()\n",
    "billion_and_one = billion + 1\n",
    "end = time.time()\n",
    "print((end - start) / 60)"
   ]
  },
  {
   "cell_type": "code",
   "execution_count": 23,
   "metadata": {},
   "outputs": [
    {
     "name": "stdout",
     "output_type": "stream",
     "text": [
      "0.010595166683197021\n"
     ]
    }
   ],
   "source": [
    "million = []\n",
    "start = time.time()\n",
    "for i in np.arange(1000000):\n",
    "    million.append(str(i))\n",
    "end = time.time()\n",
    "print((end - start) / 60)"
   ]
  },
  {
   "cell_type": "code",
   "execution_count": 25,
   "metadata": {},
   "outputs": [
    {
     "name": "stdout",
     "output_type": "stream",
     "text": [
      "0.0029339989026387534\n"
     ]
    }
   ],
   "source": [
    "million_hey = []\n",
    "start = time.time()\n",
    "for i in million:\n",
    "    million_hey.append(i + '!')\n",
    "end = time.time()\n",
    "print((end - start) / 60)"
   ]
  },
  {
   "cell_type": "code",
   "execution_count": 28,
   "metadata": {},
   "outputs": [
    {
     "name": "stdout",
     "output_type": "stream",
     "text": [
      "12.019638164838154\n"
     ]
    }
   ],
   "source": [
    "billion = []\n",
    "start = time.time()\n",
    "for i in np.arange(1000000000):\n",
    "    billion.append(str(i))\n",
    "end = time.time()\n",
    "print((end - start) / 60)"
   ]
  },
  {
   "cell_type": "code",
   "execution_count": null,
   "metadata": {},
   "outputs": [],
   "source": [
    "billion_hey = []\n",
    "start = time.time()\n",
    "for i in billion:\n",
    "    billion_hey.append(i + '!')\n",
    "end = time.time()\n",
    "print((end - start) / 60)"
   ]
  },
  {
   "cell_type": "code",
   "execution_count": null,
   "metadata": {},
   "outputs": [],
   "source": [
    "start = time.time()\n",
    "billion_ho = [i + ' say whaaat?' for i in billion]\n",
    "end = time.time()\n",
    "print((end - start) / 60)"
   ]
  },
  {
   "cell_type": "code",
   "execution_count": null,
   "metadata": {},
   "outputs": [],
   "source": []
  },
  {
   "cell_type": "code",
   "execution_count": null,
   "metadata": {},
   "outputs": [],
   "source": []
  }
 ],
 "metadata": {
  "kernelspec": {
   "display_name": "Python 3",
   "language": "python",
   "name": "python3"
  },
  "language_info": {
   "codemirror_mode": {
    "name": "ipython",
    "version": 3
   },
   "file_extension": ".py",
   "mimetype": "text/x-python",
   "name": "python",
   "nbconvert_exporter": "python",
   "pygments_lexer": "ipython3",
   "version": "3.7.0"
  }
 },
 "nbformat": 4,
 "nbformat_minor": 2
}
