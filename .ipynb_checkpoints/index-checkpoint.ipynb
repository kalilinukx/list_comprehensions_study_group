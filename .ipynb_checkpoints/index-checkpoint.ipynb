{
 "cells": [
  {
   "cell_type": "markdown",
   "metadata": {},
   "source": [
    "# List Comprehensions in Python: the How, the Why, and the What Even Are They?\n",
    "\n",
    "# Contents\n",
    "\n",
    "- [What is a list comprehension?](#)\n",
    "- [Why use them?]\n",
    "- [with conditional statements (if/else]\n",
    "- [with nesting]\n",
    "- [Dictionary comprehensions]\n"
   ]
  },
  {
   "cell_type": "code",
   "execution_count": 1,
   "metadata": {},
   "outputs": [],
   "source": [
    "menu = {\n",
    "        'soup': {\n",
    "                    'classic': [\n",
    "                                'tomato bisque', 'potato leek', 'french onion'\n",
    "                                ],\n",
    "                    'gluten_free': [\n",
    "                                'broccoli cheddar', 'gaspacho', 'pho'\n",
    "                                ],\n",
    "                    'vegan': [\n",
    "                                'carrot ginger', 'curried sweet potato', 'mulligatawny',\n",
    "                                ]\n",
    "                },\n",
    "        'salad': {\n",
    "                    'classic': [\n",
    "                                'caesar', 'cobb', 'nicoise'\n",
    "                                ],\n",
    "                    'gluten_free': [\n",
    "                                'larb', 'cole slaw', 'watermelon tomato'\n",
    "                                ],\n",
    "                    'vegan': [\n",
    "                                'mesclun', 'kale', 'lentil'\n",
    "                                ]\n",
    "                },\n",
    "        'proteins': {\n",
    "                    'classic': [\n",
    "                                'steak au poivre', 'grilled chicken', 'salmon with dill'\n",
    "                                ],\n",
    "                    'gluten_free': [\n",
    "                                '', '', ''\n",
    "                                ],\n",
    "                    'vegan': [\n",
    "                                'falafel', 'cauliflower steak', 'grilled portobello'\n",
    "                                ]\n",
    "                },\n",
    "        'sides': {\n",
    "                    'classic': [\n",
    "                                'mashed potatoes', 'fried brussels sprouts', 'garlic bread'\n",
    "                                ],\n",
    "                    'gluten_free': [\n",
    "                                 'grilled asparagus', 'roasted tomatoes', 'green beans amandine'\n",
    "                                ],\n",
    "                    'vegan': ['boiled new potatoes', 'curried cauliflower', 'farro salad']\n",
    "                },\n",
    "        'pastry': {\n",
    "                    'classic': [\n",
    "                                'black forest cake', 'lemon bars', 'choux puffs'\n",
    "                                ],\n",
    "                    'gluten_free': [\n",
    "                                'flourless chocolate cake', 'parfaits', 'macarons'\n",
    "                                ],\n",
    "                    'vegan': [\n",
    "                                'sweet potato cake', 'peanut butter cookies', 'fruit salad'\n",
    "                                \n",
    "                    ]\n",
    "                },\n",
    "}"
   ]
  },
  {
   "cell_type": "code",
   "execution_count": 6,
   "metadata": {},
   "outputs": [
    {
     "data": {
      "text/plain": [
       "{'soup': {'classic': ['tomato bisque', 'potato leek', 'french onion'],\n",
       "  'gluten_free': ['broccoli cheddar', 'gaspacho', 'pho'],\n",
       "  'vegan': ['carrot ginger', 'curried sweet potato', 'mulligatawny']},\n",
       " 'salad': {'classic': ['caesar', 'cobb', 'nicoise'],\n",
       "  'gluten_free': ['larb', 'cole slaw', 'watermelon tomato'],\n",
       "  'vegan': ['mesclun', 'kale', 'lentil']},\n",
       " 'proteins': {'classic': ['steak au poivre',\n",
       "   'grilled chicken',\n",
       "   'salmon with dill'],\n",
       "  'gluten_free': ['', '', ''],\n",
       "  'vegan': ['falafel', 'cauliflower steak', 'grilled portobello']},\n",
       " 'sides': {'classic': ['mashed potatoes', 'fried brussels sprouts'],\n",
       "  'gluten_free': ['grilled asparagus'],\n",
       "  'vegan': ['boiled new potatoes', '', '']},\n",
       " 'pastry': {'classic': [], 'gluten_free': [], 'vegan': []}}"
      ]
     },
     "execution_count": 6,
     "metadata": {},
     "output_type": "execute_result"
    }
   ],
   "source": [
    "menu"
   ]
  },
  {
   "cell_type": "code",
   "execution_count": 25,
   "metadata": {
    "collapsed": true
   },
   "outputs": [
    {
     "name": "stdout",
     "output_type": "stream",
     "text": [
      "SOUP\n",
      "classic:\n",
      "tomato bisque\n",
      "potato leek\n",
      "french onion\n",
      "\n",
      "\n",
      "gluten_free:\n",
      "broccoli cheddar\n",
      "gaspacho\n",
      "pho\n",
      "\n",
      "\n",
      "vegan:\n",
      "carrot ginger\n",
      "curried sweet potato\n",
      "mulligatawny\n",
      "\n",
      "\n",
      "\n",
      "\n",
      "SALAD\n",
      "classic:\n",
      "caesar\n",
      "cobb\n",
      "nicoise\n",
      "\n",
      "\n",
      "gluten_free:\n",
      "larb\n",
      "cole slaw\n",
      "watermelon tomato\n",
      "\n",
      "\n",
      "vegan:\n",
      "mesclun\n",
      "kale\n",
      "lentil\n",
      "\n",
      "\n",
      "\n",
      "\n",
      "PROTEINS\n",
      "classic:\n",
      "steak au poivre\n",
      "grilled chicken\n",
      "salmon with dill\n",
      "\n",
      "\n",
      "gluten_free:\n",
      "\n",
      "\n",
      "\n",
      "\n",
      "\n",
      "vegan:\n",
      "falafel\n",
      "cauliflower steak\n",
      "grilled portobello\n",
      "\n",
      "\n",
      "\n",
      "\n",
      "SIDES\n",
      "classic:\n",
      "mashed potatoes\n",
      "fried brussels sprouts\n",
      "garlic bread\n",
      "\n",
      "\n",
      "gluten_free:\n",
      "grilled asparagus\n",
      "roasted tomatoes\n",
      "green beans amandine\n",
      "\n",
      "\n",
      "vegan:\n",
      "boiled new potatoes\n",
      "curried cauliflower\n",
      "farro salad\n",
      "\n",
      "\n",
      "\n",
      "\n",
      "PASTRY\n",
      "classic:\n",
      "black forest cake\n",
      "lemon bars\n",
      "choux puffs\n",
      "\n",
      "\n",
      "gluten_free:\n",
      "flourless chocolate cake\n",
      "parfaits\n",
      "macarons\n",
      "\n",
      "\n",
      "vegan:\n",
      "sweet potato cake\n",
      "peanut butter cookies\n",
      "fruit salad\n",
      "\n",
      "\n",
      "\n",
      "\n"
     ]
    }
   ],
   "source": [
    "for course, course_options in menu.items():\n",
    "    print(course.upper())\n",
    "#    print(value)\n",
    "    for style, style_options in course_options.items():\n",
    "        print(f'{style}:')\n",
    "        for food in style_options:\n",
    "            print(food)\n",
    "        print('\\n')\n",
    "    print('\\n')"
   ]
  },
  {
   "cell_type": "code",
   "execution_count": 13,
   "metadata": {},
   "outputs": [
    {
     "data": {
      "text/plain": [
       "['soup', 'salad', 'proteins', 'sides', 'pastry']"
      ]
     },
     "execution_count": 13,
     "metadata": {},
     "output_type": "execute_result"
    }
   ],
   "source": [
    "[course for course, course_options in menu.items()]"
   ]
  },
  {
   "cell_type": "code",
   "execution_count": 26,
   "metadata": {
    "collapsed": true
   },
   "outputs": [
    {
     "data": {
      "text/plain": [
       "['classic',\n",
       " 'gluten_free',\n",
       " 'vegan',\n",
       " 'classic',\n",
       " 'gluten_free',\n",
       " 'vegan',\n",
       " 'classic',\n",
       " 'gluten_free',\n",
       " 'vegan',\n",
       " 'classic',\n",
       " 'gluten_free',\n",
       " 'vegan',\n",
       " 'classic',\n",
       " 'gluten_free',\n",
       " 'vegan']"
      ]
     },
     "execution_count": 26,
     "metadata": {},
     "output_type": "execute_result"
    }
   ],
   "source": [
    "[style for course, course_options in menu.items() for style, style_options in course_options.items()]"
   ]
  },
  {
   "cell_type": "code",
   "execution_count": 31,
   "metadata": {},
   "outputs": [
    {
     "data": {
      "text/plain": [
       "['carrot ginger',\n",
       " 'curried sweet potato',\n",
       " 'mulligatawny',\n",
       " 'mesclun',\n",
       " 'kale',\n",
       " 'lentil',\n",
       " 'falafel',\n",
       " 'cauliflower steak',\n",
       " 'grilled portobello',\n",
       " 'boiled new potatoes',\n",
       " 'curried cauliflower',\n",
       " 'farro salad',\n",
       " 'sweet potato cake',\n",
       " 'peanut butter cookies',\n",
       " 'fruit salad']"
      ]
     },
     "execution_count": 31,
     "metadata": {},
     "output_type": "execute_result"
    }
   ],
   "source": [
    "[food for course, c_options in menu.items() for style, s_options in c_options.items() for food in s_options if style == 'vegan']"
   ]
  },
  {
   "cell_type": "code",
   "execution_count": null,
   "metadata": {},
   "outputs": [],
   "source": []
  },
  {
   "cell_type": "code",
   "execution_count": null,
   "metadata": {},
   "outputs": [],
   "source": []
  },
  {
   "cell_type": "code",
   "execution_count": null,
   "metadata": {},
   "outputs": [],
   "source": []
  },
  {
   "cell_type": "code",
   "execution_count": null,
   "metadata": {},
   "outputs": [],
   "source": []
  },
  {
   "cell_type": "code",
   "execution_count": null,
   "metadata": {},
   "outputs": [],
   "source": []
  },
  {
   "cell_type": "code",
   "execution_count": null,
   "metadata": {},
   "outputs": [],
   "source": []
  },
  {
   "cell_type": "code",
   "execution_count": null,
   "metadata": {},
   "outputs": [],
   "source": []
  }
 ],
 "metadata": {
  "kernelspec": {
   "display_name": "Python 3",
   "language": "python",
   "name": "python3"
  },
  "language_info": {
   "codemirror_mode": {
    "name": "ipython",
    "version": 3
   },
   "file_extension": ".py",
   "mimetype": "text/x-python",
   "name": "python",
   "nbconvert_exporter": "python",
   "pygments_lexer": "ipython3",
   "version": "3.7.0"
  }
 },
 "nbformat": 4,
 "nbformat_minor": 2
}
